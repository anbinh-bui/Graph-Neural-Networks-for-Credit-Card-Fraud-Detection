{
  "metadata": {
    "kernelspec": {
      "display_name": "Python 3",
      "language": "python",
      "name": "python3"
    },
    "language_info": {
      "name": "python",
      "version": "3.6.6",
      "mimetype": "text/x-python",
      "codemirror_mode": {
        "name": "ipython",
        "version": 3
      },
      "pygments_lexer": "ipython3",
      "nbconvert_exporter": "python",
      "file_extension": ".py"
    },
    "kaggle": {
      "accelerator": "gpu",
      "dataSources": [
        {
          "sourceId": 14242,
          "databundleVersionId": 568274,
          "sourceType": "competition"
        }
      ],
      "dockerImageVersionId": 28772,
      "isInternetEnabled": false,
      "language": "python",
      "sourceType": "notebook",
      "isGpuEnabled": true
    },
    "colab": {
      "name": "IEEE Credit Card Fraud Detection - EDA",
      "provenance": [],
      "include_colab_link": true
    }
  },
  "nbformat_minor": 0,
  "nbformat": 4,
  "cells": [
    {
      "cell_type": "markdown",
      "metadata": {
        "id": "view-in-github",
        "colab_type": "text"
      },
      "source": [
        "<a href=\"https://colab.research.google.com/github/anbinh-bui/Graph-Neural-Networks-for-Credit-Card-Fraud-Detection/blob/main/EDA.ipynb\" target=\"_parent\"><img src=\"https://colab.research.google.com/assets/colab-badge.svg\" alt=\"Open In Colab\"/></a>"
      ]
    },
    {
      "source": [
        "\n",
        "# IMPORTANT: RUN THIS CELL IN ORDER TO IMPORT YOUR KAGGLE DATA SOURCES\n",
        "# TO THE CORRECT LOCATION (/kaggle/input) IN YOUR NOTEBOOK,\n",
        "# THEN FEEL FREE TO DELETE THIS CELL.\n",
        "# NOTE: THIS NOTEBOOK ENVIRONMENT DIFFERS FROM KAGGLE'S PYTHON\n",
        "# ENVIRONMENT SO THERE MAY BE MISSING LIBRARIES USED BY YOUR\n",
        "# NOTEBOOK.\n",
        "\n",
        "import os\n",
        "import sys\n",
        "from tempfile import NamedTemporaryFile\n",
        "from urllib.request import urlopen\n",
        "from urllib.parse import unquote, urlparse\n",
        "from urllib.error import HTTPError\n",
        "from zipfile import ZipFile\n",
        "import tarfile\n",
        "import shutil\n",
        "\n",
        "CHUNK_SIZE = 40960\n",
        "DATA_SOURCE_MAPPING = ':https%3A%2F%2Fstorage.googleapis.com%2Fkaggle-competitions-data%2Fkaggle-v2%2F14242%2F568274%2Fbundle%2Farchive.zip%3FX-Goog-Algorithm%3DGOOG4-RSA-SHA256%26X-Goog-Credential%3Dgcp-kaggle-com%2540kaggle-161607.iam.gserviceaccount.com%252F20240612%252Fauto%252Fstorage%252Fgoog4_request%26X-Goog-Date%3D20240612T142322Z%26X-Goog-Expires%3D259200%26X-Goog-SignedHeaders%3Dhost%26X-Goog-Signature%3D4c3e9c8e3818abe68017ef112bb923a324975d8f717987980fdb67791c21b9e26384835db2d09f2b90e1a22c2ae7f73a205e32beeabdb51d801a33792653f3f333ba55ee78956a74b6fb133b188c7b24f61fc288a4fe22593a64b716743d62ba5017128cf3daf155fdcff74126d85060c5b653546f66a78e6d9d29c07f5380b06d0790a04aeac4c2db95c2647902be55ad3bf3fbd7fb03979445b5ea3b230fca93e7edd820196dad0e271ba6674f8315e81182cf9f0e530ccc605684680cddbf7344ea9d1403d7b5fe17f7ea79a0b1ece64ad7c86a437c96e77452708164c643431853120e8b06dda0c0c8c71dbde96653b74f6f4986bff25bd30fd056a1f568'\n",
        "\n",
        "KAGGLE_INPUT_PATH='/kaggle/input'\n",
        "KAGGLE_WORKING_PATH='/kaggle/working'\n",
        "KAGGLE_SYMLINK='kaggle'\n",
        "\n",
        "!umount /kaggle/input/ 2> /dev/null\n",
        "shutil.rmtree('/kaggle/input', ignore_errors=True)\n",
        "os.makedirs(KAGGLE_INPUT_PATH, 0o777, exist_ok=True)\n",
        "os.makedirs(KAGGLE_WORKING_PATH, 0o777, exist_ok=True)\n",
        "\n",
        "try:\n",
        "  os.symlink(KAGGLE_INPUT_PATH, os.path.join(\"..\", 'input'), target_is_directory=True)\n",
        "except FileExistsError:\n",
        "  pass\n",
        "try:\n",
        "  os.symlink(KAGGLE_WORKING_PATH, os.path.join(\"..\", 'working'), target_is_directory=True)\n",
        "except FileExistsError:\n",
        "  pass\n",
        "\n",
        "for data_source_mapping in DATA_SOURCE_MAPPING.split(','):\n",
        "    directory, download_url_encoded = data_source_mapping.split(':')\n",
        "    download_url = unquote(download_url_encoded)\n",
        "    filename = urlparse(download_url).path\n",
        "    destination_path = os.path.join(KAGGLE_INPUT_PATH, directory)\n",
        "    try:\n",
        "        with urlopen(download_url) as fileres, NamedTemporaryFile() as tfile:\n",
        "            total_length = fileres.headers['content-length']\n",
        "            print(f'Downloading {directory}, {total_length} bytes compressed')\n",
        "            dl = 0\n",
        "            data = fileres.read(CHUNK_SIZE)\n",
        "            while len(data) > 0:\n",
        "                dl += len(data)\n",
        "                tfile.write(data)\n",
        "                done = int(50 * dl / int(total_length))\n",
        "                sys.stdout.write(f\"\\r[{'=' * done}{' ' * (50-done)}] {dl} bytes downloaded\")\n",
        "                sys.stdout.flush()\n",
        "                data = fileres.read(CHUNK_SIZE)\n",
        "            if filename.endswith('.zip'):\n",
        "              with ZipFile(tfile) as zfile:\n",
        "                zfile.extractall(destination_path)\n",
        "            else:\n",
        "              with tarfile.open(tfile.name) as tarfile:\n",
        "                tarfile.extractall(destination_path)\n",
        "            print(f'\\nDownloaded and uncompressed: {directory}')\n",
        "    except HTTPError as e:\n",
        "        print(f'Failed to load (likely expired) {download_url} to path {destination_path}')\n",
        "        continue\n",
        "    except OSError as e:\n",
        "        print(f'Failed to load {download_url} to path {destination_path}')\n",
        "        continue\n",
        "\n",
        "print('Data source import complete.')\n"
      ],
      "metadata": {
        "id": "89nS9OkD1P8e",
        "outputId": "4eb25951-9a55-4ded-b8c0-3176d261fbbe",
        "colab": {
          "base_uri": "https://localhost:8080/"
        }
      },
      "cell_type": "code",
      "outputs": [
        {
          "output_type": "stream",
          "name": "stdout",
          "text": [
            "Downloading , 123856947 bytes compressed\n",
            "[==================================================] 123856947 bytes downloaded"
          ]
        }
      ],
      "execution_count": null
    },
    {
      "cell_type": "markdown",
      "source": [
        "## Importing necessary libraries"
      ],
      "metadata": {
        "id": "0lV1RnDi1P8h"
      }
    },
    {
      "cell_type": "code",
      "source": [
        "import numpy as np # linear algebra\n",
        "import pandas as pd # data processing, CSV file I/O (e.g. pd.read_csv)\n",
        "import scipy as sp\n",
        "from scipy import stats\n",
        "import matplotlib.pyplot as plt\n",
        "import seaborn as sns\n",
        "\n",
        "# Standard plotly imports\n",
        "#import plotly.plotly as py\n",
        "import plotly.graph_objs as go\n",
        "import plotly.tools as tls\n",
        "from plotly.offline import iplot, init_notebook_mode\n",
        "#import cufflinks\n",
        "#import cufflinks as cf\n",
        "import plotly.figure_factory as ff\n",
        "\n",
        "# Using plotly + cufflinks in offline mode\n",
        "init_notebook_mode(connected=True)\n",
        "#cufflinks.go_offline(connected=True)\n",
        "\n",
        "# Preprocessing, modelling and evaluating\n",
        "from sklearn import preprocessing\n",
        "from sklearn.metrics import confusion_matrix, roc_auc_score\n",
        "from sklearn.model_selection import StratifiedKFold, cross_val_score, KFold\n",
        "from xgboost import XGBClassifier\n",
        "import xgboost as xgb\n",
        "\n",
        "## Hyperopt modules\n",
        "from hyperopt import fmin, hp, tpe, Trials, space_eval, STATUS_OK, STATUS_RUNNING\n",
        "from functools import partial\n",
        "\n",
        "import os\n",
        "import gc\n",
        "print(os.listdir(\"../input\"))"
      ],
      "metadata": {
        "_cell_guid": "79c7e3d0-c299-4dcb-8224-4455121ee9b0",
        "_uuid": "d629ff2d2480ee46fbb7e2d37f6b5fab8052498a",
        "_kg_hide-input": true,
        "execution": {
          "iopub.status.busy": "2024-06-12T06:16:51.332588Z",
          "iopub.execute_input": "2024-06-12T06:16:51.332898Z",
          "iopub.status.idle": "2024-06-12T06:16:55.055676Z",
          "shell.execute_reply.started": "2024-06-12T06:16:51.332841Z",
          "shell.execute_reply": "2024-06-12T06:16:55.054692Z"
        },
        "trusted": true,
        "id": "zB7Btlh_1P8h"
      },
      "execution_count": null,
      "outputs": []
    },
    {
      "cell_type": "markdown",
      "source": [
        "# Importing train datasets"
      ],
      "metadata": {
        "id": "EOsDFtjt1P8i"
      }
    },
    {
      "cell_type": "code",
      "source": [
        "df_id = pd.read_csv(\"../input/train_identity.csv\")\n",
        "df_trans = pd.read_csv(\"../input/train_transaction.csv\")"
      ],
      "metadata": {
        "execution": {
          "iopub.status.busy": "2024-06-12T09:53:19.54324Z",
          "iopub.execute_input": "2024-06-12T09:53:19.543532Z",
          "iopub.status.idle": "2024-06-12T09:53:42.872606Z",
          "shell.execute_reply.started": "2024-06-12T09:53:19.543491Z",
          "shell.execute_reply": "2024-06-12T09:53:42.871272Z"
        },
        "trusted": true,
        "id": "Hsri2OTY1P8i"
      },
      "execution_count": null,
      "outputs": []
    },
    {
      "cell_type": "code",
      "source": [
        "def resumetable(df):\n",
        "    print(f\"Dataset Shape: {df.shape}\")\n",
        "    summary = pd.DataFrame(df.dtypes,columns=['dtypes'])\n",
        "    summary = summary.reset_index()\n",
        "    summary['Name'] = summary['index']\n",
        "    summary = summary[['Name','dtypes']]\n",
        "    summary['Missing'] = df.isnull().sum().values\n",
        "    summary['Uniques'] = df.nunique().values\n",
        "    summary['First Value'] = df.loc[0].values\n",
        "    summary['Second Value'] = df.loc[1].values\n",
        "    summary['Third Value'] = df.loc[2].values\n",
        "\n",
        "    for name in summary['Name'].value_counts().index:\n",
        "        summary.loc[summary['Name'] == name, 'Entropy'] = round(stats.entropy(df[name].value_counts(normalize=True), base=2),2)\n",
        "\n",
        "    return summary\n",
        "\n",
        "## Function to reduce the DF size\n",
        "def reduce_mem_usage(df, verbose=True):\n",
        "    numerics = ['int16', 'int32', 'int64', 'float16', 'float32', 'float64']\n",
        "    start_mem = df.memory_usage().sum() / 1024**2\n",
        "    for col in df.columns:\n",
        "        col_type = df[col].dtypes\n",
        "        if col_type in numerics:\n",
        "            c_min = df[col].min()\n",
        "            c_max = df[col].max()\n",
        "            if str(col_type)[:3] == 'int':\n",
        "                if c_min > np.iinfo(np.int8).min and c_max < np.iinfo(np.int8).max:\n",
        "                    df[col] = df[col].astype(np.int8)\n",
        "                elif c_min > np.iinfo(np.int16).min and c_max < np.iinfo(np.int16).max:\n",
        "                    df[col] = df[col].astype(np.int16)\n",
        "                elif c_min > np.iinfo(np.int32).min and c_max < np.iinfo(np.int32).max:\n",
        "                    df[col] = df[col].astype(np.int32)\n",
        "                elif c_min > np.iinfo(np.int64).min and c_max < np.iinfo(np.int64).max:\n",
        "                    df[col] = df[col].astype(np.int64)\n",
        "            else:\n",
        "                if c_min > np.finfo(np.float16).min and c_max < np.finfo(np.float16).max:\n",
        "                    df[col] = df[col].astype(np.float16)\n",
        "                elif c_min > np.finfo(np.float32).min and c_max < np.finfo(np.float32).max:\n",
        "                    df[col] = df[col].astype(np.float32)\n",
        "                else:\n",
        "                    df[col] = df[col].astype(np.float64)\n",
        "    end_mem = df.memory_usage().sum() / 1024**2\n",
        "    if verbose: print('Mem. usage decreased to {:5.2f} Mb ({:.1f}% reduction)'.format(end_mem, 100 * (start_mem - end_mem) / start_mem))\n",
        "    return df\n",
        "\n",
        "def CalcOutliers(df_num):\n",
        "\n",
        "    # calculating mean and std of the array\n",
        "    data_mean, data_std = np.mean(df_num), np.std(df_num)\n",
        "\n",
        "    # seting the cut line to both higher and lower values\n",
        "    # You can change this value\n",
        "    cut = data_std * 3\n",
        "\n",
        "    #Calculating the higher and lower cut values\n",
        "    lower, upper = data_mean - cut, data_mean + cut\n",
        "\n",
        "    # creating an array of lower, higher and total outlier values\n",
        "    outliers_lower = [x for x in df_num if x < lower]\n",
        "    outliers_higher = [x for x in df_num if x > upper]\n",
        "    outliers_total = [x for x in df_num if x < lower or x > upper]\n",
        "\n",
        "    # array without outlier values\n",
        "    outliers_removed = [x for x in df_num if x > lower and x < upper]\n",
        "\n",
        "    print('Identified lowest outliers: %d' % len(outliers_lower)) # printing total number of values in lower cut of outliers\n",
        "    print('Identified upper outliers: %d' % len(outliers_higher)) # printing total number of values in higher cut of outliers\n",
        "    print('Total outlier observations: %d' % len(outliers_total)) # printing total number of values outliers of both sides\n",
        "    print('Non-outlier observations: %d' % len(outliers_removed)) # printing total number of non outlier values\n",
        "    print(\"Total percentual of Outliers: \", round((len(outliers_total) / len(outliers_removed) )*100, 4)) # Percentual of outliers in points\n",
        "\n",
        "    return"
      ],
      "metadata": {
        "_kg_hide-input": true,
        "execution": {
          "iopub.status.busy": "2024-06-12T06:18:30.8335Z",
          "iopub.execute_input": "2024-06-12T06:18:30.83381Z",
          "iopub.status.idle": "2024-06-12T06:18:30.865558Z",
          "shell.execute_reply.started": "2024-06-12T06:18:30.833768Z",
          "shell.execute_reply": "2024-06-12T06:18:30.864659Z"
        },
        "trusted": true,
        "id": "3PRRYvU41P8i"
      },
      "execution_count": null,
      "outputs": []
    },
    {
      "cell_type": "code",
      "source": [
        "## Reducing memory\n",
        "df_trans = reduce_mem_usage(df_trans)\n",
        "df_id = reduce_mem_usage(df_id)"
      ],
      "metadata": {
        "execution": {
          "iopub.status.busy": "2024-06-12T09:53:49.211167Z",
          "iopub.execute_input": "2024-06-12T09:53:49.211468Z",
          "iopub.status.idle": "2024-06-12T09:56:03.190935Z",
          "shell.execute_reply.started": "2024-06-12T09:53:49.211426Z",
          "shell.execute_reply": "2024-06-12T09:56:03.189954Z"
        },
        "trusted": true,
        "id": "rwUz9Eyx1P8i"
      },
      "execution_count": null,
      "outputs": []
    },
    {
      "cell_type": "markdown",
      "source": [
        "# Knowing the data"
      ],
      "metadata": {
        "id": "qtzrnbjo1P8j"
      }
    },
    {
      "cell_type": "code",
      "source": [
        "resumetable(df_trans)[:25]"
      ],
      "metadata": {
        "_kg_hide-output": true,
        "execution": {
          "iopub.status.busy": "2024-06-12T07:15:53.696669Z",
          "iopub.execute_input": "2024-06-12T07:15:53.697Z",
          "iopub.status.idle": "2024-06-12T07:16:58.250573Z",
          "shell.execute_reply.started": "2024-06-12T07:15:53.696947Z",
          "shell.execute_reply": "2024-06-12T07:16:58.24964Z"
        },
        "trusted": true,
        "id": "nfDXAdL_1P8j"
      },
      "execution_count": null,
      "outputs": []
    },
    {
      "cell_type": "markdown",
      "source": [
        "# Target Distribution"
      ],
      "metadata": {
        "id": "ZuDqmRfS1P8j"
      }
    },
    {
      "cell_type": "code",
      "source": [
        "df_trans['TransactionAmt'] = df_trans['TransactionAmt'].astype(float)\n",
        "total = len(df_trans)\n",
        "total_amt = df_trans.groupby(['isFraud'])['TransactionAmt'].sum().sum()\n",
        "plt.figure(figsize=(16,6))\n",
        "\n",
        "plt.subplot(121)\n",
        "g = sns.countplot(x='isFraud', data=df_trans, )\n",
        "g.set_title(\"Fraud Transactions Distribution\", fontsize=20)\n",
        "g.set_xlabel(\"Is fraud?\", fontsize=16)\n",
        "g.set_ylabel('Count', fontsize=16)\n",
        "for p in g.patches:\n",
        "    height = p.get_height()\n",
        "    g.text(p.get_x()+p.get_width()/2.,\n",
        "            height + 3,\n",
        "            '{:1.2f}%'.format(height/total*100),\n",
        "            ha=\"center\", fontsize=12)\n",
        "\n",
        "perc_amt = (df_trans.groupby(['isFraud'])['TransactionAmt'].sum())\n",
        "perc_amt = perc_amt.reset_index()\n",
        "plt.subplot(122)\n",
        "g1 = sns.barplot(x='isFraud', y='TransactionAmt',  dodge=True, data=perc_amt)\n",
        "g1.set_title(\"% Total Amount in Transaction Amt\", fontsize=20)\n",
        "g1.set_xlabel(\"Is fraud?\", fontsize=16)\n",
        "g1.set_ylabel('Total Transaction Amount Scalar', fontsize=16)\n",
        "for p in g1.patches:\n",
        "    height = p.get_height()\n",
        "    g1.text(p.get_x()+p.get_width()/2.,\n",
        "            height + 3,\n",
        "            '{:1.2f}%'.format(height/total_amt * 100),\n",
        "            ha=\"center\", fontsize=12)\n",
        "\n",
        "plt.show()"
      ],
      "metadata": {
        "_kg_hide-input": true,
        "execution": {
          "iopub.status.busy": "2024-06-12T07:07:55.909564Z",
          "iopub.execute_input": "2024-06-12T07:07:55.909876Z",
          "iopub.status.idle": "2024-06-12T07:07:56.257228Z",
          "shell.execute_reply.started": "2024-06-12T07:07:55.909821Z",
          "shell.execute_reply": "2024-06-12T07:07:56.256499Z"
        },
        "trusted": true,
        "id": "tQqnTaXD1P8j"
      },
      "execution_count": null,
      "outputs": []
    },
    {
      "cell_type": "markdown",
      "source": [
        "We have 3.5% of Fraud transactions in our dataset."
      ],
      "metadata": {
        "id": "_yFvFoY01P8k"
      }
    },
    {
      "cell_type": "markdown",
      "source": [
        "# Transaction Amount Quantiles"
      ],
      "metadata": {
        "id": "UehnjuVL1P8k"
      }
    },
    {
      "cell_type": "markdown",
      "source": [
        "Before Ploting the Transaction Amount, let's see the quantiles of Transaction Amount"
      ],
      "metadata": {
        "id": "zm3W4aMI1P8k"
      }
    },
    {
      "cell_type": "code",
      "source": [
        "df_trans['TransactionAmt'] = df_trans['TransactionAmt'].astype(float)\n",
        "print(\"Transaction Amounts Quantiles:\")\n",
        "print(df_trans['TransactionAmt'].quantile([.01, .025, .1, .25, .5, .75, .9, .975, .99]))"
      ],
      "metadata": {
        "_kg_hide-input": true,
        "execution": {
          "iopub.status.busy": "2024-06-12T07:16:58.252535Z",
          "iopub.execute_input": "2024-06-12T07:16:58.25277Z",
          "iopub.status.idle": "2024-06-12T07:16:58.278838Z",
          "shell.execute_reply.started": "2024-06-12T07:16:58.252732Z",
          "shell.execute_reply": "2024-06-12T07:16:58.277953Z"
        },
        "trusted": true,
        "id": "TwT7WcPs1P8k"
      },
      "execution_count": null,
      "outputs": []
    },
    {
      "cell_type": "markdown",
      "source": [
        "# Ploting Transaction Amount Values Distribution"
      ],
      "metadata": {
        "id": "B94oSe5t1P8k"
      }
    },
    {
      "cell_type": "code",
      "source": [
        "plt.figure(figsize=(16,12))\n",
        "plt.suptitle('Transaction Values Distribution', fontsize=22)\n",
        "plt.subplot(221)\n",
        "g = sns.distplot(df_trans[df_trans['TransactionAmt'] <= 1000]['TransactionAmt'])\n",
        "g.set_title(\"Transaction Amount Distribution <= 1000\", fontsize=18)\n",
        "g.set_xlabel(\"\")\n",
        "g.set_ylabel(\"Probability\", fontsize=15)\n",
        "\n",
        "plt.subplot(222)\n",
        "g1 = sns.distplot(np.log(df_trans['TransactionAmt']))\n",
        "g1.set_title(\"Transaction Amount (Log) Distribution\", fontsize=18)\n",
        "g1.set_xlabel(\"\")\n",
        "g1.set_ylabel(\"Probability\", fontsize=15)\n",
        "\n",
        "plt.figure(figsize=(16,12))\n",
        "\n",
        "\n",
        "plt.subplot(212)\n",
        "g4 = plt.scatter(range(df_trans[df_trans['isFraud'] == 0].shape[0]),\n",
        "                 np.sort(df_trans[df_trans['isFraud'] == 0]['TransactionAmt'].values),\n",
        "                 label='NotFraud', alpha=.2)\n",
        "g4 = plt.scatter(range(df_trans[df_trans['isFraud'] == 1].shape[0]),\n",
        "                 np.sort(df_trans[df_trans['isFraud'] == 1]['TransactionAmt'].values),\n",
        "                 label='Fraud', alpha=.2)\n",
        "g4= plt.title(\"FRAUD vs NOT FRAUD Transaction Amount Distribution\", fontsize=16)\n",
        "g4 = plt.xlabel(\"Index\")\n",
        "g4 = plt.ylabel(\"Amount Distribution\", fontsize=12)\n",
        "g4 = plt.legend()\n",
        "\n",
        "plt.figure(figsize=(16,12))\n",
        "\n",
        "plt.subplot(321)\n",
        "g = plt.scatter(range(df_trans[df_trans['isFraud'] == 1].shape[0]),\n",
        "                 np.sort(df_trans[df_trans['isFraud'] == 1]['TransactionAmt'].values),\n",
        "                label='isFraud', alpha=.4)\n",
        "plt.title(\"FRAUD - Transaction Amount ECDF\", fontsize=18)\n",
        "plt.xlabel(\"Index\")\n",
        "plt.ylabel(\"Amount Distribution\", fontsize=12)\n",
        "\n",
        "plt.subplot(322)\n",
        "g1 = plt.scatter(range(df_trans[df_trans['isFraud'] == 0].shape[0]),\n",
        "                 np.sort(df_trans[df_trans['isFraud'] == 0]['TransactionAmt'].values),\n",
        "                 label='Not Fraud', alpha=.2)\n",
        "g1= plt.title(\"NOT FRAUD - Transaction Amount ECDF\", fontsize=18)\n",
        "g1 = plt.xlabel(\"Index\")\n",
        "g1 = plt.ylabel(\"Amount Distribution\", fontsize=15)\n",
        "\n",
        "plt.suptitle('Individual ECDF Distribution', fontsize=22)\n",
        "\n",
        "plt.show()"
      ],
      "metadata": {
        "_kg_hide-input": true,
        "execution": {
          "iopub.status.busy": "2024-06-12T07:36:02.162547Z",
          "iopub.execute_input": "2024-06-12T07:36:02.162841Z",
          "iopub.status.idle": "2024-06-12T07:36:29.105791Z",
          "shell.execute_reply.started": "2024-06-12T07:36:02.1628Z",
          "shell.execute_reply": "2024-06-12T07:36:29.105055Z"
        },
        "trusted": true,
        "id": "y2wLu5Tb1P8k"
      },
      "execution_count": null,
      "outputs": []
    },
    {
      "cell_type": "markdown",
      "source": [
        "# Seeing the Quantiles of Fraud and No Fraud Transactions"
      ],
      "metadata": {
        "id": "_kZ8uWcd1P8k"
      }
    },
    {
      "cell_type": "code",
      "source": [
        "print(pd.concat([df_trans[df_trans['isFraud'] == 1]['TransactionAmt']\\\n",
        "                 .quantile([.01, .1, .25, .5, .75, .9, .99])\\\n",
        "                 .reset_index(),\n",
        "                 df_trans[df_trans['isFraud'] == 0]['TransactionAmt']\\\n",
        "                 .quantile([.01, .1, .25, .5, .75, .9, .99])\\\n",
        "                 .reset_index()],\n",
        "                axis=1, keys=['Fraud', \"Not Fraud\"]))"
      ],
      "metadata": {
        "_kg_hide-input": true,
        "execution": {
          "iopub.status.busy": "2024-06-12T07:45:26.438855Z",
          "iopub.execute_input": "2024-06-12T07:45:26.439217Z",
          "iopub.status.idle": "2024-06-12T07:45:27.076667Z",
          "shell.execute_reply.started": "2024-06-12T07:45:26.439154Z",
          "shell.execute_reply": "2024-06-12T07:45:27.075823Z"
        },
        "trusted": true,
        "id": "SwfmIGxM1P8k"
      },
      "execution_count": null,
      "outputs": []
    },
    {
      "cell_type": "markdown",
      "source": [
        "# Transaction Amount Outliers\n",
        "- It's considering outlier values that are highest than 3 times the std from the mean"
      ],
      "metadata": {
        "id": "ItHaFknP1P8k"
      }
    },
    {
      "cell_type": "code",
      "source": [
        "CalcOutliers(df_trans['TransactionAmt'])"
      ],
      "metadata": {
        "_kg_hide-input": true,
        "trusted": true,
        "id": "AmGSekud1P8k"
      },
      "execution_count": null,
      "outputs": []
    },
    {
      "cell_type": "markdown",
      "source": [
        "If we consider only values between >= 0 to 800 we will avoid the outliers and has more confidence in our distribution. <br>\n",
        "We have 10k rows with outliers that represents 1.74% of total rows."
      ],
      "metadata": {
        "id": "BP4gx7e_1P8l"
      }
    },
    {
      "cell_type": "markdown",
      "source": [
        "# Now, let's known the Product Feature\n",
        "- Distribution Products\n",
        "- Distribution of Frauds by Product\n",
        "- Has Difference between Transaction Amounts in Products?"
      ],
      "metadata": {
        "trusted": true,
        "id": "f7fq-HKk1P8l"
      }
    },
    {
      "cell_type": "code",
      "source": [
        "tmp = pd.crosstab(df_trans['ProductCD'], df_trans['isFraud'], normalize='index') * 100\n",
        "tmp = tmp.reset_index()\n",
        "tmp.rename(columns={0:'NoFraud', 1:'Fraud'}, inplace=True)\n",
        "\n",
        "plt.figure(figsize=(14,10))\n",
        "plt.suptitle('ProductCD Distributions', fontsize=20)\n",
        "\n",
        "plt.subplot(221)\n",
        "g = sns.countplot(x='ProductCD', data=df_trans)\n",
        "# plt.legend(title='Fraud', loc='upper center', labels=['No', 'Yes'])\n",
        "\n",
        "g.set_title(\"ProductCD Distribution\", fontsize=16)\n",
        "g.set_xlabel(\"ProductCD Name\", fontsize=12)\n",
        "g.set_ylabel(\"Count\", fontsize=12)\n",
        "g.set_ylim(0,500000)\n",
        "for p in g.patches:\n",
        "    height = p.get_height()\n",
        "    g.text(p.get_x()+p.get_width()/2.,\n",
        "            height + 3,\n",
        "            '{:1.2f}%'.format(height/total*100),\n",
        "            ha=\"center\", fontsize=14)\n",
        "\n",
        "plt.subplot(222)\n",
        "g1 = sns.countplot(x='ProductCD', hue='isFraud', data=df_trans)\n",
        "plt.legend(title='Fraud', loc='best', labels=['No', 'Yes'])\n",
        "gt = g1.twinx()\n",
        "gt = sns.pointplot(x='ProductCD', y='Fraud', data=tmp, color='black', order=['W', 'H',\"C\", \"S\", \"R\"], legend=False)\n",
        "gt.set_ylabel(\"% of Fraud Transactions\", fontsize=16)\n",
        "\n",
        "g1.set_title(\"Product CD by Fraud Boolean)\", fontsize=16)\n",
        "g1.set_xlabel(\"ProductCD Name\", fontsize=12)\n",
        "g1.set_ylabel(\"Count\", fontsize=12)\n",
        "\n",
        "plt.subplot(212)\n",
        "g3 = sns.boxenplot(x='ProductCD', y='TransactionAmt', hue='isFraud',\n",
        "              data=df_trans[df_trans['TransactionAmt'] <= 2000] )\n",
        "g3.set_title(\"Transaction Amount Distribution by ProductCD and Fraud Boolean\", fontsize=18)\n",
        "g3.set_xlabel(\"ProductCD Name\", fontsize=12)\n",
        "g3.set_ylabel(\"Transaction Values\", fontsize=12)\n",
        "\n",
        "plt.subplots_adjust(hspace = 0.6, top = 0.85)\n",
        "\n",
        "plt.show()"
      ],
      "metadata": {
        "_kg_hide-input": true,
        "execution": {
          "iopub.status.busy": "2024-06-12T07:53:56.807522Z",
          "iopub.execute_input": "2024-06-12T07:53:56.807836Z",
          "iopub.status.idle": "2024-06-12T07:53:58.770423Z",
          "shell.execute_reply.started": "2024-06-12T07:53:56.807793Z",
          "shell.execute_reply": "2024-06-12T07:53:58.7696Z"
        },
        "trusted": true,
        "id": "YQbHo_sk1P8l"
      },
      "execution_count": null,
      "outputs": []
    },
    {
      "cell_type": "markdown",
      "source": [
        "W, C and R are the most frequent values. <br>\n",
        "We can note that in W, H and R the distribution of Fraud values are slightly higher than the Non-Fraud Transactions"
      ],
      "metadata": {
        "id": "R13k3sWc1P8l"
      }
    },
    {
      "cell_type": "markdown",
      "source": [
        "# Card Features\n",
        "- Based on Competition Description, card features are categoricals.\n",
        "- Lets understand the distribution of values\n",
        "- What's the different in transactions and % of Fraud for each values in these features\n",
        "- Card features has 6 columns, and 4 of them seems to be numericals, so lets see the quantiles and distributions"
      ],
      "metadata": {
        "id": "E-p1nbtQ1P8l"
      }
    },
    {
      "cell_type": "code",
      "source": [
        "## Knowning the Card Features\n",
        "resumetable(df_trans[['card1', 'card2', 'card3','card4', 'card5', 'card6']])"
      ],
      "metadata": {
        "execution": {
          "iopub.status.busy": "2024-06-12T07:54:45.078588Z",
          "iopub.execute_input": "2024-06-12T07:54:45.078928Z",
          "iopub.status.idle": "2024-06-12T07:54:46.784846Z",
          "shell.execute_reply.started": "2024-06-12T07:54:45.078852Z",
          "shell.execute_reply": "2024-06-12T07:54:46.784017Z"
        },
        "trusted": true,
        "id": "IWQX-ZNK1P8l"
      },
      "execution_count": null,
      "outputs": []
    },
    {
      "cell_type": "markdown",
      "source": [
        "Card2-Card6 has some missing values. We will need to due with it later."
      ],
      "metadata": {
        "id": "x8jW-e2G1P8l"
      }
    },
    {
      "cell_type": "markdown",
      "source": [
        "# Numericals Feature Card Quantiles"
      ],
      "metadata": {
        "id": "CQ8Nkcfv1P8l"
      }
    },
    {
      "cell_type": "code",
      "source": [
        "print(\"Card Features Quantiles: \")\n",
        "print(df_trans[['card1', 'card2', 'card3', 'card5']].quantile([0.01, .025, .1, .25, .5, .75, .975, .99]))"
      ],
      "metadata": {
        "_kg_hide-input": true,
        "execution": {
          "iopub.status.busy": "2024-06-12T07:55:09.693208Z",
          "iopub.execute_input": "2024-06-12T07:55:09.693547Z",
          "iopub.status.idle": "2024-06-12T07:55:09.757362Z",
          "shell.execute_reply.started": "2024-06-12T07:55:09.693488Z",
          "shell.execute_reply": "2024-06-12T07:55:09.75656Z"
        },
        "trusted": true,
        "id": "8E2IFIdt1P8l"
      },
      "execution_count": null,
      "outputs": []
    },
    {
      "cell_type": "markdown",
      "source": [
        "We can see that Card 1 and Card 2 has a large distribution of values, so maybe it will be better to get the log of these columns"
      ],
      "metadata": {
        "id": "iFYqAJOq1P8l"
      }
    },
    {
      "cell_type": "code",
      "source": [
        "\n",
        "df_trans.loc[df_trans.card3.isin(df_trans.card3.value_counts()[df_trans.card3.value_counts() < 200].index), 'card3'] = \"Others\"\n",
        "df_trans.loc[df_trans.card5.isin(df_trans.card5.value_counts()[df_trans.card5.value_counts() < 300].index), 'card5'] = \"Others\""
      ],
      "metadata": {
        "execution": {
          "iopub.status.busy": "2024-06-12T07:55:19.778891Z",
          "iopub.execute_input": "2024-06-12T07:55:19.779261Z",
          "iopub.status.idle": "2024-06-12T07:55:20.305526Z",
          "shell.execute_reply.started": "2024-06-12T07:55:19.77921Z",
          "shell.execute_reply": "2024-06-12T07:55:20.304853Z"
        },
        "trusted": true,
        "id": "-SImwhzu1P8l"
      },
      "execution_count": null,
      "outputs": []
    },
    {
      "cell_type": "markdown",
      "source": [
        "# Visualizing Card 1, Card 2 and Card 3 Distributions\n",
        "- As the Card 1 and 2 are numericals, I will plot the distribution of them\n",
        "- in Card 3, as we have many values with low frequencies, I decided to set value to \"Others\"\n",
        "- Also, in Card 3 I set the % of Fraud ratio in yaxis2"
      ],
      "metadata": {
        "id": "oMXIkgS_1P8l"
      }
    },
    {
      "cell_type": "code",
      "source": [
        "tmp = pd.crosstab(df_trans['card3'], df_trans['isFraud'], normalize='index') * 100\n",
        "tmp = tmp.reset_index()\n",
        "tmp.rename(columns={0:'NotFraud', 1:'Fraud'}, inplace=True)\n",
        "\n",
        "tmp2 = pd.crosstab(df_trans['card5'], df_trans['isFraud'], normalize='index') * 100\n",
        "tmp2 = tmp2.reset_index()\n",
        "tmp2.rename(columns={0:'NotFraud', 1:'Fraud'}, inplace=True)\n",
        "\n",
        "plt.figure(figsize=(14,22))\n",
        "\n",
        "plt.subplot(411)\n",
        "g = sns.distplot(df_trans[df_trans['isFraud'] == 1]['card1'], label='Fraud')\n",
        "g = sns.distplot(df_trans[df_trans['isFraud'] == 0]['card1'], label='NotFraud')\n",
        "g.legend()\n",
        "g.set_title(\"Card 1 Values Distribution by Target\", fontsize=20)\n",
        "g.set_xlabel(\"Card 1 Values\", fontsize=18)\n",
        "g.set_ylabel(\"Probability\", fontsize=18)\n",
        "\n",
        "plt.subplot(412)\n",
        "g1 = sns.distplot(df_trans[df_trans['isFraud'] == 1]['card2'].dropna(), label='Fraud')\n",
        "g1 = sns.distplot(df_trans[df_trans['isFraud'] == 0]['card2'].dropna(), label='NotFraud')\n",
        "g1.legend()\n",
        "g1.set_title(\"Card 2 Values Distribution by Target\", fontsize=20)\n",
        "g1.set_xlabel(\"Card 2 Values\", fontsize=18)\n",
        "g1.set_ylabel(\"Probability\", fontsize=18)\n",
        "\n",
        "plt.subplot(413)\n",
        "g2 = sns.countplot(x='card3', data=df_trans, order=list(tmp.card3.values))\n",
        "g22 = g2.twinx()\n",
        "gg2 = sns.pointplot(x='card3', y='Fraud', data=tmp,\n",
        "                    color='black', order=list(tmp.card3.values))\n",
        "gg2.set_ylabel(\"% of Fraud Transactions\", fontsize=16)\n",
        "g2.set_title(\"Card 3 Values Distribution and % of Transaction Frauds\", fontsize=20)\n",
        "g2.set_xlabel(\"Card 3 Values\", fontsize=18)\n",
        "g2.set_ylabel(\"Count\", fontsize=18)\n",
        "for p in g2.patches:\n",
        "    height = p.get_height()\n",
        "    g2.text(p.get_x()+p.get_width()/2.,\n",
        "            height + 25,\n",
        "            '{:1.2f}%'.format(height/total*100),\n",
        "            ha=\"center\")\n",
        "\n",
        "plt.subplot(414)\n",
        "g3 = sns.countplot(x='card5', data=df_trans, order=list(tmp2.card5.values))\n",
        "g3t = g3.twinx()\n",
        "g3t = sns.pointplot(x='card5', y='Fraud', data=tmp2,\n",
        "                    color='black', order=list(tmp2.card5.values))\n",
        "g3t.set_ylabel(\"% of Fraud Transactions\", fontsize=16)\n",
        "g3.set_title(\"Card 5 Values Distribution and % of Transaction Frauds\", fontsize=20)\n",
        "g3.set_xticklabels(g3.get_xticklabels(),rotation=90)\n",
        "g3.set_xlabel(\"Card 5 Values\", fontsize=18)\n",
        "g3.set_ylabel(\"Count\", fontsize=18)\n",
        "for p in g3.patches:\n",
        "    height = p.get_height()\n",
        "    g3.text(p.get_x()+p.get_width()/2.,\n",
        "            height + 3,\n",
        "            '{:1.2f}%'.format(height/total*100),\n",
        "            ha=\"center\",fontsize=11)\n",
        "\n",
        "plt.subplots_adjust(hspace = 0.6, top = 0.85)\n",
        "\n",
        "\n",
        "plt.show()"
      ],
      "metadata": {
        "_kg_hide-input": true,
        "execution": {
          "iopub.status.busy": "2024-06-12T08:30:51.873239Z",
          "iopub.execute_input": "2024-06-12T08:30:51.873553Z",
          "iopub.status.idle": "2024-06-12T08:30:56.211629Z",
          "shell.execute_reply.started": "2024-06-12T08:30:51.87351Z",
          "shell.execute_reply": "2024-06-12T08:30:56.210707Z"
        },
        "trusted": true,
        "id": "8yOJu9aG1P8l"
      },
      "execution_count": null,
      "outputs": []
    },
    {
      "cell_type": "markdown",
      "source": [
        "Cool and Very Meaningful information. <br>\n",
        "In Card3 we can see that 100 and 106 are the most common values in the column. <br>\n",
        "We have 4.95% of Frauds in 100 and 1.52% in 106; The values with highest Fraud Transactions are 185, 119 and 119; <br>\n",
        "\n",
        "In card5 the most frequent values are 226, 224, 166 that represents 73% of data. Also is posible to see high % of frauds in 137, 147, 141 that has few entries for values."
      ],
      "metadata": {
        "id": "1uNfXzGo1P8l"
      }
    },
    {
      "cell_type": "markdown",
      "source": [
        "# Card 4 - Categorical"
      ],
      "metadata": {
        "id": "fxzZ0wK_1P8l"
      }
    },
    {
      "cell_type": "code",
      "source": [
        "tmp = pd.crosstab(df_trans['card4'], df_trans['isFraud'], normalize='index') * 100\n",
        "tmp = tmp.reset_index()\n",
        "tmp.rename(columns={0:'NoFraud', 1:'Fraud'}, inplace=True)\n",
        "\n",
        "plt.figure(figsize=(14,10))\n",
        "plt.suptitle('Card 4 Distributions', fontsize=22)\n",
        "\n",
        "plt.subplot(221)\n",
        "g = sns.countplot(x='card4', data=df_trans)\n",
        "# plt.legend(title='Fraud', loc='upper center', labels=['No', 'Yes'])\n",
        "g.set_title(\"Card4 Distribution\", fontsize=19)\n",
        "g.set_ylim(0,420000)\n",
        "g.set_xlabel(\"Card4 Category Names\", fontsize=17)\n",
        "g.set_ylabel(\"Count\", fontsize=17)\n",
        "for p in g.patches:\n",
        "    height = p.get_height()\n",
        "    g.text(p.get_x()+p.get_width()/2.,\n",
        "            height + 3,\n",
        "            '{:1.2f}%'.format(height/total*100),\n",
        "            ha=\"center\",fontsize=14)\n",
        "\n",
        "\n",
        "plt.subplot(222)\n",
        "g1 = sns.countplot(x='card4', hue='isFraud', data=df_trans)\n",
        "plt.legend(title='Fraud', loc='best', labels=['No', 'Yes'])\n",
        "gt = g1.twinx()\n",
        "gt = sns.pointplot(x='card4', y='Fraud', data=tmp,\n",
        "                   color='black', legend=False,\n",
        "                   order=['discover', 'mastercard', 'visa', 'american express'])\n",
        "gt.set_ylabel(\"% of Fraud Transactions\", fontsize=16)\n",
        "g1.set_title(\"Card4 by Target(isFraud)\", fontsize=19)\n",
        "g1.set_xlabel(\"Card4 Category Names\", fontsize=17)\n",
        "g1.set_ylabel(\"Count\", fontsize=17)\n",
        "\n",
        "plt.subplot(212)\n",
        "g3 = sns.boxenplot(x='card4', y='TransactionAmt', hue='isFraud',\n",
        "              data=df_trans[df_trans['TransactionAmt'] <= 2000] )\n",
        "g3.set_title(\"Card 4 Distribution by ProductCD and Target\", fontsize=20)\n",
        "g3.set_xlabel(\"Card4 Category Names\", fontsize=17)\n",
        "g3.set_ylabel(\"Transaction Values\", fontsize=17)\n",
        "\n",
        "plt.subplots_adjust(hspace = 0.6, top = 0.85)\n",
        "\n",
        "plt.show()"
      ],
      "metadata": {
        "_kg_hide-input": true,
        "execution": {
          "iopub.status.busy": "2024-06-12T08:32:08.205531Z",
          "iopub.execute_input": "2024-06-12T08:32:08.205887Z",
          "iopub.status.idle": "2024-06-12T08:32:10.762803Z",
          "shell.execute_reply.started": "2024-06-12T08:32:08.205812Z",
          "shell.execute_reply": "2024-06-12T08:32:10.761998Z"
        },
        "trusted": true,
        "id": "pGmilUuO1P8m"
      },
      "execution_count": null,
      "outputs": []
    },
    {
      "cell_type": "markdown",
      "source": [
        "We can see that 97% of our data are in Mastercard(32%) and Visa(65%);  <br>\n",
        "we have a highest value in discover(~8%) against ~3.5% of Mastercard and Visa and 2.87% in American Express"
      ],
      "metadata": {
        "id": "JyDsLvYI1P8m"
      }
    },
    {
      "cell_type": "markdown",
      "source": [
        "# Card 6 - Categorical"
      ],
      "metadata": {
        "id": "Pb4WT7Re1P8m"
      }
    },
    {
      "cell_type": "code",
      "source": [
        "tmp = pd.crosstab(df_trans['card6'], df_trans['isFraud'], normalize='index') * 100\n",
        "tmp = tmp.reset_index()\n",
        "tmp.rename(columns={0:'NotFraud', 1:'Fraud'}, inplace=True)\n",
        "\n",
        "plt.figure(figsize=(14,10))\n",
        "plt.suptitle('Card 6 Distributions', fontsize=22)\n",
        "\n",
        "plt.subplot(221)\n",
        "g = sns.countplot(x='card6', data=df_trans, order=list(tmp.card6.values))\n",
        "# plt.legend(title='Fraud', loc='upper center', labels=['No', 'Yes'])\n",
        "g.set_title(\"Card6 Distribution\", fontsize=19)\n",
        "g.set_ylim(0,480000)\n",
        "g.set_xlabel(\"Card6 Category Names\", fontsize=17)\n",
        "g.set_ylabel(\"Count\", fontsize=17)\n",
        "for p in g.patches:\n",
        "    height = p.get_height()\n",
        "    g.text(p.get_x()+p.get_width()/2.,\n",
        "            height + 3,\n",
        "            '{:1.2f}%'.format(height/total*100),\n",
        "            ha=\"center\",fontsize=14)\n",
        "\n",
        "plt.subplot(222)\n",
        "g1 = sns.countplot(x='card6', hue='isFraud', data=df_trans, order=list(tmp.card6.values))\n",
        "plt.legend(title='Fraud', loc='best', labels=['No', 'Yes'])\n",
        "gt = g1.twinx()\n",
        "gt = sns.pointplot(x='card6', y='Fraud', data=tmp, order=list(tmp.card6.values),\n",
        "                   color='black', legend=False, )\n",
        "gt.set_ylim(0,20)\n",
        "gt.set_ylabel(\"% of Fraud Transactions\", fontsize=16)\n",
        "g1.set_title(\"Card6 by Target(isFraud)\", fontsize=19)\n",
        "g1.set_xlabel(\"Card6 Category Names\", fontsize=17)\n",
        "g1.set_ylabel(\"Count\", fontsize=17)\n",
        "\n",
        "plt.subplot(212)\n",
        "g3 = sns.boxenplot(x='card6', y='TransactionAmt', hue='isFraud', order=list(tmp.card6.values),\n",
        "              data=df_trans[df_trans['TransactionAmt'] <= 2000] )\n",
        "g3.set_title(\"Card 6 Distribuition by ProductCD and Target\", fontsize=20)\n",
        "g3.set_xlabel(\"Card6 Category Names\", fontsize=17)\n",
        "g3.set_ylabel(\"Transaction Values\", fontsize=17)\n",
        "\n",
        "plt.subplots_adjust(hspace = 0.6, top = 0.85)\n",
        "\n",
        "plt.show()"
      ],
      "metadata": {
        "_kg_hide-input": true,
        "execution": {
          "iopub.status.busy": "2024-06-12T08:32:54.453602Z",
          "iopub.execute_input": "2024-06-12T08:32:54.453927Z",
          "iopub.status.idle": "2024-06-12T08:32:56.727063Z",
          "shell.execute_reply.started": "2024-06-12T08:32:54.453856Z",
          "shell.execute_reply": "2024-06-12T08:32:56.726329Z"
        },
        "trusted": true,
        "id": "sHAWrmXo1P8r"
      },
      "execution_count": null,
      "outputs": []
    },
    {
      "cell_type": "markdown",
      "source": [
        "All data is on Credit and Debit. We can see a high percentual of Frauds in Credit than Debit transactions. <br>\n",
        "The Distribution of Transaction Amount don't shows clear differences."
      ],
      "metadata": {
        "id": "rKl4deJ-1P8r"
      }
    },
    {
      "cell_type": "markdown",
      "source": [
        "# Exploring M1-M9 Features"
      ],
      "metadata": {
        "id": "UQdB50yH1P8r"
      }
    },
    {
      "cell_type": "code",
      "source": [
        "for col in ['M1', 'M2', 'M3', 'M4', 'M5', 'M6', 'M7', 'M8', 'M9']:\n",
        "    df_trans[col] = df_trans[col].fillna(\"Miss\")\n",
        "\n",
        "def ploting_dist_ratio(df, col, lim=2000):\n",
        "    tmp = pd.crosstab(df[col], df['isFraud'], normalize='index') * 100\n",
        "    tmp = tmp.reset_index()\n",
        "    tmp.rename(columns={0:'NoFraud', 1:'Fraud'}, inplace=True)\n",
        "\n",
        "    plt.figure(figsize=(20,5))\n",
        "    plt.suptitle(f'{col} Distributions ', fontsize=22)\n",
        "\n",
        "    plt.subplot(121)\n",
        "    g = sns.countplot(x=col, data=df, order=list(tmp[col].values))\n",
        "    # plt.legend(title='Fraud', loc='upper center', labels=['No', 'Yes'])\n",
        "    g.set_title(f\"{col} Distribution\\nCound and %Fraud by each category\", fontsize=18)\n",
        "    g.set_ylim(0,400000)\n",
        "    gt = g.twinx()\n",
        "    gt = sns.pointplot(x=col, y='Fraud', data=tmp, order=list(tmp[col].values),\n",
        "                       color='black', legend=False, )\n",
        "    gt.set_ylim(0,20)\n",
        "    gt.set_ylabel(\"% of Fraud Transactions\", fontsize=16)\n",
        "    g.set_xlabel(f\"{col} Category Names\", fontsize=16)\n",
        "    g.set_ylabel(\"Count\", fontsize=17)\n",
        "    for p in gt.patches:\n",
        "        height = p.get_height()\n",
        "        gt.text(p.get_x()+p.get_width()/2.,\n",
        "                height + 3,\n",
        "                '{:1.2f}%'.format(height/total*100),\n",
        "                ha=\"center\",fontsize=14)\n",
        "\n",
        "    perc_amt = (df_trans.groupby(['isFraud',col])['TransactionAmt'].sum() / total_amt * 100).unstack('isFraud')\n",
        "    perc_amt = perc_amt.reset_index()\n",
        "    perc_amt.rename(columns={0:'NoFraud', 1:'Fraud'}, inplace=True)\n",
        "\n",
        "    plt.subplot(122)\n",
        "    g1 = sns.boxplot(x=col, y='TransactionAmt', hue='isFraud',\n",
        "                     data=df[df['TransactionAmt'] <= lim], order=list(tmp[col].values))\n",
        "    g1t = g1.twinx()\n",
        "    g1t = sns.pointplot(x=col, y='Fraud', data=perc_amt, order=list(tmp[col].values),\n",
        "                       color='black', legend=False, )\n",
        "    g1t.set_ylim(0,5)\n",
        "    g1t.set_ylabel(\"%Fraud Total Amount\", fontsize=16)\n",
        "    g1.set_title(f\"{col} by Transactions dist\", fontsize=18)\n",
        "    g1.set_xlabel(f\"{col} Category Names\", fontsize=16)\n",
        "    g1.set_ylabel(\"Transaction Amount(U$)\", fontsize=16)\n",
        "\n",
        "    plt.subplots_adjust(hspace=.4, wspace = 0.35, top = 0.80)\n",
        "\n",
        "    plt.show()\n"
      ],
      "metadata": {
        "_kg_hide-input": true,
        "execution": {
          "iopub.status.busy": "2024-06-12T08:33:24.121284Z",
          "iopub.execute_input": "2024-06-12T08:33:24.12159Z",
          "iopub.status.idle": "2024-06-12T08:33:24.88759Z",
          "shell.execute_reply.started": "2024-06-12T08:33:24.121546Z",
          "shell.execute_reply": "2024-06-12T08:33:24.886856Z"
        },
        "trusted": true,
        "id": "iBykWfAg1P8r"
      },
      "execution_count": null,
      "outputs": []
    },
    {
      "cell_type": "markdown",
      "source": [
        "## M distributions:  Count, %Fraud and Transaction Amount distribution"
      ],
      "metadata": {
        "id": "Wkrgyuf81P8r"
      }
    },
    {
      "cell_type": "code",
      "source": [
        "for col in ['M1', 'M2', 'M3', 'M4', 'M5', 'M6', 'M7', 'M8', 'M9']:\n",
        "    ploting_dist_ratio(df_trans, col, lim=2500)"
      ],
      "metadata": {
        "execution": {
          "iopub.status.busy": "2024-06-12T08:33:31.912258Z",
          "iopub.execute_input": "2024-06-12T08:33:31.912555Z",
          "iopub.status.idle": "2024-06-12T08:33:51.717537Z",
          "shell.execute_reply.started": "2024-06-12T08:33:31.912506Z",
          "shell.execute_reply": "2024-06-12T08:33:51.716768Z"
        },
        "trusted": true,
        "id": "y-xDgxTW1P8r"
      },
      "execution_count": null,
      "outputs": []
    },
    {
      "cell_type": "markdown",
      "source": [
        "These graphs give us some interesting intuition about the M features.<br>\n",
        "\n"
      ],
      "metadata": {
        "id": "2wGPT_bP1P8r"
      }
    },
    {
      "cell_type": "markdown",
      "source": [
        "# Addr1 and Addr2"
      ],
      "metadata": {
        "id": "R7qal--s1P8r"
      }
    },
    {
      "cell_type": "code",
      "source": [
        "print(\"Card Features Quantiles: \")\n",
        "print(df_trans[['addr1', 'addr2']].quantile([0.01, .025, .1, .25, .5, .75, .90,.975, .99]))"
      ],
      "metadata": {
        "execution": {
          "iopub.status.busy": "2024-06-12T09:12:38.504317Z",
          "iopub.execute_input": "2024-06-12T09:12:38.50465Z",
          "iopub.status.idle": "2024-06-12T09:12:38.560056Z",
          "shell.execute_reply.started": "2024-06-12T09:12:38.504604Z",
          "shell.execute_reply": "2024-06-12T09:12:38.559244Z"
        },
        "trusted": true,
        "id": "Dq2J0ASk1P8r"
      },
      "execution_count": null,
      "outputs": []
    },
    {
      "cell_type": "markdown",
      "source": [
        "I will set all values in Addr1 that has less than 5000 entries to \"Others\"<br>\n",
        "In Addr2 same but for less than 50 entries."
      ],
      "metadata": {
        "id": "pcWH76Di1P8r"
      }
    },
    {
      "cell_type": "code",
      "source": [
        "df_trans.loc[df_trans.addr1.isin(df_trans.addr1.value_counts()[df_trans.addr1.value_counts() <= 5000 ].index), 'addr1'] = \"Others\"\n",
        "df_trans.loc[df_trans.addr2.isin(df_trans.addr2.value_counts()[df_trans.addr2.value_counts() <= 50 ].index), 'addr2'] = \"Others\""
      ],
      "metadata": {
        "execution": {
          "iopub.status.busy": "2024-06-12T09:13:50.165211Z",
          "iopub.execute_input": "2024-06-12T09:13:50.165564Z",
          "iopub.status.idle": "2024-06-12T09:13:51.057812Z",
          "shell.execute_reply.started": "2024-06-12T09:13:50.165499Z",
          "shell.execute_reply": "2024-06-12T09:13:51.057156Z"
        },
        "trusted": true,
        "id": "z_qGwxgx1P8r"
      },
      "execution_count": null,
      "outputs": []
    },
    {
      "cell_type": "markdown",
      "source": [
        "## Addr1 Distributions"
      ],
      "metadata": {
        "id": "zL270FfK1P8r"
      }
    },
    {
      "cell_type": "code",
      "source": [
        " def ploting_cnt_amt(df, col, lim=2000):\n",
        "    tmp = pd.crosstab(df[col], df['isFraud'], normalize='index') * 100\n",
        "    tmp = tmp.reset_index()\n",
        "    tmp.rename(columns={0:'NoFraud', 1:'Fraud'}, inplace=True)\n",
        "\n",
        "    plt.figure(figsize=(16,14))\n",
        "    plt.suptitle(f'{col} Distributions ', fontsize=24)\n",
        "\n",
        "    plt.subplot(211)\n",
        "    g = sns.countplot( x=col,  data=df, order=list(tmp[col].values))\n",
        "    gt = g.twinx()\n",
        "    gt = sns.pointplot(x=col, y='Fraud', data=tmp, order=list(tmp[col].values),\n",
        "                       color='black', legend=False, )\n",
        "    gt.set_ylim(0,tmp['Fraud'].max()*1.1)\n",
        "    gt.set_ylabel(\"%Fraud Transactions\", fontsize=16)\n",
        "    g.set_title(f\"Most Frequent {col} values and % Fraud Transactions\", fontsize=20)\n",
        "    g.set_xlabel(f\"{col} Category Names\", fontsize=16)\n",
        "    g.set_ylabel(\"Count\", fontsize=17)\n",
        "    g.set_xticklabels(g.get_xticklabels(),rotation=45)\n",
        "    sizes = []\n",
        "    for p in g.patches:\n",
        "        height = p.get_height()\n",
        "        sizes.append(height)\n",
        "        g.text(p.get_x()+p.get_width()/2.,\n",
        "                height + 3,\n",
        "                '{:1.2f}%'.format(height/total*100),\n",
        "                ha=\"center\",fontsize=12)\n",
        "\n",
        "    g.set_ylim(0,max(sizes)*1.15)\n",
        "\n",
        "    #########################################################################\n",
        "    perc_amt = (df.groupby(['isFraud',col])['TransactionAmt'].sum() \\\n",
        "                / df.groupby([col])['TransactionAmt'].sum() * 100).unstack('isFraud')\n",
        "    perc_amt = perc_amt.reset_index()\n",
        "    perc_amt.rename(columns={0:'NoFraud', 1:'Fraud'}, inplace=True)\n",
        "    amt = df.groupby([col])['TransactionAmt'].sum().reset_index()\n",
        "    perc_amt = perc_amt.fillna(0)\n",
        "    plt.subplot(212)\n",
        "    g1 = sns.barplot(x=col, y='TransactionAmt',\n",
        "                       data=amt,\n",
        "                       order=list(tmp[col].values))\n",
        "    g1t = g1.twinx()\n",
        "    g1t = sns.pointplot(x=col, y='Fraud', data=perc_amt,\n",
        "                        order=list(tmp[col].values),\n",
        "                       color='black', legend=False, )\n",
        "    g1t.set_ylim(0,perc_amt['Fraud'].max()*1.1)\n",
        "    g1t.set_ylabel(\"%Fraud Total Amount\", fontsize=16)\n",
        "    g.set_xticklabels(g.get_xticklabels(),rotation=45)\n",
        "    g1.set_title(f\"{col} by Transactions Total + %of total and %Fraud Transactions\", fontsize=20)\n",
        "    g1.set_xlabel(f\"{col} Category Names\", fontsize=16)\n",
        "    g1.set_ylabel(\"Transaction Total Amount(U$)\", fontsize=16)\n",
        "    g1.set_xticklabels(g.get_xticklabels(),rotation=45)\n",
        "\n",
        "    for p in g1.patches:\n",
        "        height = p.get_height()\n",
        "        g1.text(p.get_x()+p.get_width()/2.,\n",
        "                height + 3,\n",
        "                '{:1.2f}%'.format(height/total_amt*100),\n",
        "                ha=\"center\",fontsize=12)\n",
        "\n",
        "    plt.subplots_adjust(hspace=.4, top = 0.9)\n",
        "    plt.show()\n",
        "\n",
        "ploting_cnt_amt(df_trans, 'addr1')"
      ],
      "metadata": {
        "_kg_hide-input": true,
        "execution": {
          "iopub.status.busy": "2024-06-12T09:13:56.517777Z",
          "iopub.execute_input": "2024-06-12T09:13:56.518118Z",
          "iopub.status.idle": "2024-06-12T09:13:58.801794Z",
          "shell.execute_reply.started": "2024-06-12T09:13:56.518069Z",
          "shell.execute_reply": "2024-06-12T09:13:58.800944Z"
        },
        "trusted": true,
        "id": "p2q3pc971P8s"
      },
      "execution_count": null,
      "outputs": []
    },
    {
      "cell_type": "markdown",
      "source": [
        "We can note interesting patterns on Addr1."
      ],
      "metadata": {
        "id": "WFqv1TwA1P8s"
      }
    },
    {
      "cell_type": "markdown",
      "source": [
        "## Addr2 Distributions"
      ],
      "metadata": {
        "id": "25PS_HzO1P8s"
      }
    },
    {
      "cell_type": "code",
      "source": [
        "ploting_cnt_amt(df_trans, 'addr2')"
      ],
      "metadata": {
        "execution": {
          "iopub.status.busy": "2024-06-12T09:14:44.433474Z",
          "iopub.execute_input": "2024-06-12T09:14:44.433781Z",
          "iopub.status.idle": "2024-06-12T09:14:45.928955Z",
          "shell.execute_reply.started": "2024-06-12T09:14:44.433738Z",
          "shell.execute_reply": "2024-06-12T09:14:45.928098Z"
        },
        "trusted": true,
        "id": "DKM2ViGe1P8s"
      },
      "execution_count": null,
      "outputs": []
    },
    {
      "cell_type": "markdown",
      "source": [
        "Almost all entries in Addr2 are in the same value. <br>\n",
        "Interestingly in the value 65 , the percent of frauds are almost 60% <br>\n",
        "Altought the value 87 has 88% of total entries, it has 96% of Total Transaction Amounts"
      ],
      "metadata": {
        "id": "qAdwYObr1P8s"
      }
    },
    {
      "cell_type": "markdown",
      "source": [
        "# P emaildomain Distributions\n",
        "- I will group all e-mail domains by the respective enterprises.\n",
        "- Also, I will set as \"Others\" all values with less than 500 entries."
      ],
      "metadata": {
        "id": "zmMNBskd1P8s"
      }
    },
    {
      "cell_type": "code",
      "source": [
        "df_trans.loc[df_trans['P_emaildomain'].isin(['gmail.com', 'gmail']),'P_emaildomain'] = 'Google'\n",
        "\n",
        "df_trans.loc[df_trans['P_emaildomain'].isin(['yahoo.com', 'yahoo.com.mx',  'yahoo.co.uk',\n",
        "                                         'yahoo.co.jp', 'yahoo.de', 'yahoo.fr',\n",
        "                                         'yahoo.es']), 'P_emaildomain'] = 'Yahoo Mail'\n",
        "df_trans.loc[df_trans['P_emaildomain'].isin(['hotmail.com','outlook.com','msn.com', 'live.com.mx',\n",
        "                                         'hotmail.es','hotmail.co.uk', 'hotmail.de',\n",
        "                                         'outlook.es', 'live.com', 'live.fr',\n",
        "                                         'hotmail.fr']), 'P_emaildomain'] = 'Microsoft'\n",
        "df_trans.loc[df_trans.P_emaildomain.isin(df_trans.P_emaildomain\\\n",
        "                                         .value_counts()[df_trans.P_emaildomain.value_counts() <= 500 ]\\\n",
        "                                         .index), 'P_emaildomain'] = \"Others\"\n",
        "df_trans.P_emaildomain.fillna(\"NoInf\", inplace=True)"
      ],
      "metadata": {
        "_kg_hide-input": true,
        "execution": {
          "iopub.status.busy": "2024-06-12T09:25:50.275581Z",
          "iopub.status.idle": "2024-06-12T09:25:50.276018Z"
        },
        "trusted": true,
        "id": "v1OsNMbZ1P8s"
      },
      "execution_count": null,
      "outputs": []
    },
    {
      "cell_type": "markdown",
      "source": [
        "## Ploting P-Email Domain"
      ],
      "metadata": {
        "id": "bSJ_U6oe1P8s"
      }
    },
    {
      "cell_type": "code",
      "source": [
        "ploting_cnt_amt(df_trans, 'P_emaildomain')"
      ],
      "metadata": {
        "execution": {
          "iopub.status.busy": "2024-06-12T09:25:50.278355Z",
          "iopub.status.idle": "2024-06-12T09:25:50.278918Z"
        },
        "trusted": true,
        "id": "V-TafhnP1P8s"
      },
      "execution_count": null,
      "outputs": []
    },
    {
      "cell_type": "markdown",
      "source": [
        "## R-Email Domain plot distribution\n",
        "- I will group all e-mail domains by the respective enterprises.\n",
        "- I will set as \"Others\" all values with less than 300 entries."
      ],
      "metadata": {
        "id": "nNT1VhgG1P8s"
      }
    },
    {
      "cell_type": "code",
      "source": [
        "df_trans.loc[df_trans['R_emaildomain'].isin(['gmail.com', 'gmail']),'R_emaildomain'] = 'Google'\n",
        "\n",
        "df_trans.loc[df_trans['R_emaildomain'].isin(['yahoo.com', 'yahoo.com.mx',  'yahoo.co.uk',\n",
        "                                             'yahoo.co.jp', 'yahoo.de', 'yahoo.fr',\n",
        "                                             'yahoo.es']), 'R_emaildomain'] = 'Yahoo Mail'\n",
        "df_trans.loc[df_trans['R_emaildomain'].isin(['hotmail.com','outlook.com','msn.com', 'live.com.mx',\n",
        "                                             'hotmail.es','hotmail.co.uk', 'hotmail.de',\n",
        "                                             'outlook.es', 'live.com', 'live.fr',\n",
        "                                             'hotmail.fr']), 'R_emaildomain'] = 'Microsoft'\n",
        "df_trans.loc[df_trans.R_emaildomain.isin(df_trans.R_emaildomain\\\n",
        "                                         .value_counts()[df_trans.R_emaildomain.value_counts() <= 300 ]\\\n",
        "                                         .index), 'R_emaildomain'] = \"Others\"\n",
        "df_trans.R_emaildomain.fillna(\"NoInf\", inplace=True)"
      ],
      "metadata": {
        "_kg_hide-input": true,
        "trusted": true,
        "id": "m8NWtLLn1P8s"
      },
      "execution_count": null,
      "outputs": []
    },
    {
      "cell_type": "code",
      "source": [
        "ploting_cnt_amt(df_trans, 'R_emaildomain')"
      ],
      "metadata": {
        "trusted": true,
        "id": "IMn9Nu2x1P8s"
      },
      "execution_count": null,
      "outputs": []
    },
    {
      "cell_type": "markdown",
      "source": [
        "We can see a very similar distribution in both email domain features. <br>\n",
        "It's interesting that we have high values in google and icloud frauds"
      ],
      "metadata": {
        "id": "3SdNb6Q11P8s"
      }
    },
    {
      "cell_type": "code",
      "source": [
        "resumetable(df_trans[['C1', 'C2', 'C3', 'C4', 'C5', 'C6', 'C7', 'C8',\n",
        "                      'C9', 'C10', 'C11', 'C12', 'C13', 'C14']])"
      ],
      "metadata": {
        "trusted": true,
        "id": "XFmGnKkE1P8t"
      },
      "execution_count": null,
      "outputs": []
    },
    {
      "cell_type": "code",
      "source": [
        "df_trans[['C1', 'C2', 'C3', 'C4', 'C5', 'C6', 'C7', 'C8',\n",
        "                      'C9', 'C10', 'C11', 'C12', 'C13', 'C14']].describe()"
      ],
      "metadata": {
        "trusted": true,
        "id": "5MpivNxU1P8t"
      },
      "execution_count": null,
      "outputs": []
    },
    {
      "cell_type": "code",
      "source": [
        "df_trans.loc[df_trans.C1.isin(df_trans.C1\\\n",
        "                              .value_counts()[df_trans.C1.value_counts() <= 400 ]\\\n",
        "                              .index), 'C1'] = \"Others\""
      ],
      "metadata": {
        "trusted": true,
        "id": "qnREPTWl1P8t"
      },
      "execution_count": null,
      "outputs": []
    },
    {
      "cell_type": "markdown",
      "source": [
        "## C1 Distribution Plot"
      ],
      "metadata": {
        "id": "r9-6YLfQ1P8t"
      }
    },
    {
      "cell_type": "code",
      "source": [
        "ploting_cnt_amt(df_trans, 'C1')"
      ],
      "metadata": {
        "trusted": true,
        "id": "gIGmDx371P8t"
      },
      "execution_count": null,
      "outputs": []
    },
    {
      "cell_type": "code",
      "source": [
        "df_trans.loc[df_trans.C2.isin(df_trans.C2\\\n",
        "                              .value_counts()[df_trans.C2.value_counts() <= 350 ]\\\n",
        "                              .index), 'C2'] = \"Others\""
      ],
      "metadata": {
        "trusted": true,
        "id": "a-HijiTH1P8t"
      },
      "execution_count": null,
      "outputs": []
    },
    {
      "cell_type": "code",
      "source": [
        "ploting_cnt_amt(df_trans, 'C2')"
      ],
      "metadata": {
        "trusted": true,
        "id": "f2sYMrU01P8t"
      },
      "execution_count": null,
      "outputs": []
    },
    {
      "cell_type": "markdown",
      "source": [
        "Top 3 values are 1, 2 and 3 and is the same on Total Amounts. We see the same pattern on fraud ratios"
      ],
      "metadata": {
        "id": "mElobt0C1P8t"
      }
    },
    {
      "cell_type": "markdown",
      "source": [
        "# TimeDelta Feature\n",
        "- Let's see if the frauds have some specific hour that has highest % of frauds"
      ],
      "metadata": {
        "id": "v6BaW9jp1P8t"
      }
    },
    {
      "cell_type": "markdown",
      "source": [
        "## Converting to Total Days, Weekdays and Hours\n",
        "In discussions tab I read an excellent solution to Timedelta column, I will set the link below; <br>\n",
        "We will use the first date as 2017-12-01 and use the delta time to compute datetime features\n"
      ],
      "metadata": {
        "id": "CAxn2l-q1P8t"
      }
    },
    {
      "cell_type": "code",
      "source": [
        "# https://www.kaggle.com/c/ieee-fraud-detection/discussion/100400#latest-579480\n",
        "import datetime\n",
        "\n",
        "START_DATE = '2017-12-01'\n",
        "startdate = datetime.datetime.strptime(START_DATE, \"%Y-%m-%d\")\n",
        "df_trans[\"Date\"] = df_trans['TransactionDT'].apply(lambda x: (startdate + datetime.timedelta(seconds=x)))\n",
        "\n",
        "df_trans['_Weekdays'] = df_trans['Date'].dt.dayofweek\n",
        "df_trans['_Hours'] = df_trans['Date'].dt.hour\n",
        "df_trans['_Days'] = df_trans['Date'].dt.day"
      ],
      "metadata": {
        "trusted": true,
        "id": "zxjc3uta1P8t"
      },
      "execution_count": null,
      "outputs": []
    },
    {
      "cell_type": "markdown",
      "source": [
        "## Top Days with highest Total Transaction Amount"
      ],
      "metadata": {
        "id": "DBYmB8tD1P8t"
      }
    },
    {
      "cell_type": "code",
      "source": [
        "ploting_cnt_amt(df_trans, '_Days')"
      ],
      "metadata": {
        "trusted": true,
        "id": "Wvmatobr1P8t"
      },
      "execution_count": null,
      "outputs": []
    },
    {
      "cell_type": "markdown",
      "source": [
        "## Ploting WeekDays Distributions"
      ],
      "metadata": {
        "id": "mdV_FFBO1P8t"
      }
    },
    {
      "cell_type": "code",
      "source": [
        "ploting_cnt_amt(df_trans, '_Weekdays')"
      ],
      "metadata": {
        "trusted": true,
        "id": "uLWSOBbE1P8t"
      },
      "execution_count": null,
      "outputs": []
    },
    {
      "cell_type": "markdown",
      "source": [
        "We don't have the reference of date but we can see that two days has lower transactions, that we can infer it is weekend days"
      ],
      "metadata": {
        "id": "VLLbrbvC1P8t"
      }
    },
    {
      "cell_type": "markdown",
      "source": [
        "## Ploting Hours Distributions"
      ],
      "metadata": {
        "id": "NROPV_-i1P8u"
      }
    },
    {
      "cell_type": "code",
      "source": [
        "ploting_cnt_amt(df_trans, '_Hours')"
      ],
      "metadata": {
        "trusted": true,
        "id": "Lnvo5ziD1P8u"
      },
      "execution_count": null,
      "outputs": []
    },
    {
      "cell_type": "markdown",
      "source": [
        "## Transactions and Total Amount by each day"
      ],
      "metadata": {
        "id": "CCYbmppp1P8u"
      }
    },
    {
      "cell_type": "code",
      "source": [
        "# Calling the function to transform the date column in datetime pandas object\n",
        "\n",
        "#seting some static color options\n",
        "color_op = ['#5527A0', '#BB93D7', '#834CF7', '#6C941E', '#93EAEA', '#7425FF', '#F2098A', '#7E87AC',\n",
        "            '#EBE36F', '#7FD394', '#49C35D', '#3058EE', '#44FDCF', '#A38F85', '#C4CEE0', '#B63A05',\n",
        "            '#4856BF', '#F0DB1B', '#9FDBD9', '#B123AC']\n",
        "\n",
        "\n",
        "dates_temp = df_trans.groupby(df_trans.Date.dt.date)['TransactionAmt'].count().reset_index()\n",
        "# renaming the columns to apropriate names\n",
        "\n",
        "# creating the first trace with the necessary parameters\n",
        "trace = go.Scatter(x=dates_temp['Date'], y=dates_temp.TransactionAmt,\n",
        "                    opacity = 0.8, line = dict(color = color_op[7]), name= 'Total Transactions')\n",
        "\n",
        "# Below we will get the total amount sold\n",
        "dates_temp_sum = df_trans.groupby(df_trans.Date.dt.date)['TransactionAmt'].sum().reset_index()\n",
        "\n",
        "# using the new dates_temp_sum we will create the second trace\n",
        "trace1 = go.Scatter(x=dates_temp_sum.Date, line = dict(color = color_op[1]), name=\"Total Amount\",\n",
        "                        y=dates_temp_sum['TransactionAmt'], opacity = 0.8, yaxis='y2')\n",
        "\n",
        "#creating the layout the will allow us to give an title and\n",
        "# give us some interesting options to handle with the outputs of graphs\n",
        "layout = dict(\n",
        "    title= \"Total Transactions and Fraud Informations by Date\",\n",
        "    xaxis=dict(\n",
        "        rangeselector=dict(\n",
        "            buttons=list([\n",
        "                dict(count=1, label='1m', step='month', stepmode='backward'),\n",
        "                dict(count=3, label='3m', step='month', stepmode='backward'),\n",
        "                dict(count=6, label='6m', step='month', stepmode='backward'),\n",
        "                dict(step='all')\n",
        "            ])\n",
        "        ),\n",
        "        rangeslider=dict(visible = True),\n",
        "        type='date' ),\n",
        "    yaxis=dict(title='Total Transactions'),\n",
        "    yaxis2=dict(overlaying='y',\n",
        "                anchor='x', side='right',\n",
        "                zeroline=False, showgrid=False,\n",
        "                title='Total Transaction Amount')\n",
        ")\n",
        "\n",
        "# creating figure with the both traces and layout\n",
        "fig = dict(data= [trace, trace1,], layout=layout)\n",
        "\n",
        "#rendering the graphs\n",
        "iplot(fig) #it's an equivalent to plt.show()"
      ],
      "metadata": {
        "_kg_hide-input": true,
        "trusted": true,
        "id": "QBVuoxc11P8u"
      },
      "execution_count": null,
      "outputs": []
    },
    {
      "cell_type": "markdown",
      "source": [
        "## FRAUD TRANSACTIONS BY DATE\n",
        "- Visualizing only Fraud Transactions by Date"
      ],
      "metadata": {
        "id": "cZvImbBC1P8u"
      }
    },
    {
      "cell_type": "code",
      "source": [
        "# Calling the function to transform the date column in datetime pandas object\n",
        "\n",
        "#seting some static color options\n",
        "color_op = ['#5527A0', '#BB93D7', '#834CF7', '#6C941E', '#93EAEA', '#7425FF', '#F2098A', '#7E87AC',\n",
        "            '#EBE36F', '#7FD394', '#49C35D', '#3058EE', '#44FDCF', '#A38F85', '#C4CEE0', '#B63A05',\n",
        "            '#4856BF', '#F0DB1B', '#9FDBD9', '#B123AC']\n",
        "\n",
        "tmp_amt = df_trans.groupby([df_trans.Date.dt.date, 'isFraud'])['TransactionAmt'].sum().reset_index()\n",
        "tmp_trans = df_trans.groupby([df_trans.Date.dt.date, 'isFraud'])['TransactionAmt'].count().reset_index()\n",
        "\n",
        "tmp_trans_fraud = tmp_trans[tmp_trans['isFraud'] == 1]\n",
        "tmp_amt_fraud = tmp_amt[tmp_amt['isFraud'] == 1]\n",
        "\n",
        "dates_temp = df_trans.groupby(df_trans.Date.dt.date)['TransactionAmt'].count().reset_index()\n",
        "# renaming the columns to apropriate names\n",
        "\n",
        "# creating the first trace with the necessary parameters\n",
        "trace = go.Scatter(x=tmp_trans_fraud['Date'], y=tmp_trans_fraud.TransactionAmt,\n",
        "                    opacity = 0.8, line = dict(color = color_op[1]), name= 'Fraud Transactions')\n",
        "\n",
        "# using the new dates_temp_sum we will create the second trace\n",
        "trace1 = go.Scatter(x=tmp_amt_fraud.Date, line = dict(color = color_op[7]), name=\"Fraud Amount\",\n",
        "                    y=tmp_amt_fraud['TransactionAmt'], opacity = 0.8, yaxis='y2')\n",
        "\n",
        "#creating the layout the will allow us to give an title and\n",
        "# give us some interesting options to handle with the outputs of graphs\n",
        "layout = dict(\n",
        "    title= \"FRAUD TRANSACTIONS - Total Transactions and Fraud Informations by Date\",\n",
        "    xaxis=dict(\n",
        "        rangeselector=dict(\n",
        "            buttons=list([\n",
        "                dict(count=1, label='1m', step='month', stepmode='backward'),\n",
        "                dict(count=3, label='3m', step='month', stepmode='backward'),\n",
        "                dict(count=6, label='6m', step='month', stepmode='backward'),\n",
        "                dict(step='all')\n",
        "            ])\n",
        "        ),\n",
        "        rangeslider=dict(visible = True),\n",
        "        type='date' ),\n",
        "    yaxis=dict(title='Total Transactions'),\n",
        "    yaxis2=dict(overlaying='y',\n",
        "                anchor='x', side='right',\n",
        "                zeroline=False, showgrid=False,\n",
        "                title='Total Transaction Amount')\n",
        ")\n",
        "\n",
        "# creating figure with the both traces and layout\n",
        "fig = dict(data= [trace, trace1], layout=layout)\n",
        "\n",
        "#rendering the graphs\n",
        "iplot(fig) #it's an equivalent to plt.show()"
      ],
      "metadata": {
        "_kg_hide-input": true,
        "trusted": true,
        "id": "6Bj-erJq1P8u"
      },
      "execution_count": null,
      "outputs": []
    },
    {
      "cell_type": "markdown",
      "source": [],
      "metadata": {
        "id": "XiXEr74X1P8u"
      }
    },
    {
      "cell_type": "markdown",
      "source": [
        "# Features [id_12 to id_38]\n",
        "- categorical features in training identity dataset"
      ],
      "metadata": {
        "id": "-XjTpRQA1P8u"
      }
    },
    {
      "cell_type": "code",
      "source": [
        "df_id[['id_12', 'id_13', 'id_14', 'id_15', 'id_16', 'id_17', 'id_18',\n",
        "       'id_19', 'id_20', 'id_21', 'id_22', 'id_23', 'id_24', 'id_25',\n",
        "       'id_26', 'id_27', 'id_28', 'id_29', 'id_30', 'id_31', 'id_32',\n",
        "       'id_33', 'id_34', 'id_35', 'id_36', 'id_37', 'id_38']].describe(include='all')"
      ],
      "metadata": {
        "_kg_hide-input": true,
        "trusted": true,
        "id": "cU7wjsvH1P8u"
      },
      "execution_count": null,
      "outputs": []
    },
    {
      "cell_type": "code",
      "source": [
        "df_train = df_trans.merge(df_id, how='left', left_index=True, right_index=True)"
      ],
      "metadata": {
        "trusted": true,
        "id": "votNoYyE1P8u"
      },
      "execution_count": null,
      "outputs": []
    },
    {
      "cell_type": "code",
      "source": [
        "def cat_feat_ploting(df, col):\n",
        "    tmp = pd.crosstab(df[col], df['isFraud'], normalize='index') * 100\n",
        "    tmp = tmp.reset_index()\n",
        "    tmp.rename(columns={0:'NoFraud', 1:'Fraud'}, inplace=True)\n",
        "\n",
        "    plt.figure(figsize=(14,10))\n",
        "    plt.suptitle(f'{col} Distributions', fontsize=22)\n",
        "\n",
        "    plt.subplot(221)\n",
        "    g = sns.countplot(x=col, data=df, order=tmp[col].values)\n",
        "    # plt.legend(title='Fraud', loc='upper center', labels=['No', 'Yes'])\n",
        "\n",
        "    g.set_title(f\"{col} Distribution\", fontsize=19)\n",
        "    g.set_xlabel(f\"{col} Name\", fontsize=17)\n",
        "    g.set_ylabel(\"Count\", fontsize=17)\n",
        "    # g.set_ylim(0,500000)\n",
        "    for p in g.patches:\n",
        "        height = p.get_height()\n",
        "        g.text(p.get_x()+p.get_width()/2.,\n",
        "                height + 3,\n",
        "                '{:1.2f}%'.format(height/total*100),\n",
        "                ha=\"center\", fontsize=14)\n",
        "\n",
        "    plt.subplot(222)\n",
        "    g1 = sns.countplot(x=col, hue='isFraud', data=df, order=tmp[col].values)\n",
        "    plt.legend(title='Fraud', loc='best', labels=['No', 'Yes'])\n",
        "    gt = g1.twinx()\n",
        "    gt = sns.pointplot(x=col, y='Fraud', data=tmp, color='black', order=tmp[col].values, legend=False)\n",
        "    gt.set_ylabel(\"% of Fraud Transactions\", fontsize=16)\n",
        "\n",
        "    g1.set_title(f\"{col} by Target(isFraud)\", fontsize=19)\n",
        "    g1.set_xlabel(f\"{col} Name\", fontsize=17)\n",
        "    g1.set_ylabel(\"Count\", fontsize=17)\n",
        "\n",
        "    plt.subplot(212)\n",
        "    g3 = sns.boxenplot(x=col, y='TransactionAmt', hue='isFraud',\n",
        "                       data=df[df['TransactionAmt'] <= 2000], order=tmp[col].values )\n",
        "    g3.set_title(\"Transaction Amount Distribuition by ProductCD and Target\", fontsize=20)\n",
        "    g3.set_xlabel(\"ProductCD Name\", fontsize=17)\n",
        "    g3.set_ylabel(\"Transaction Values\", fontsize=17)\n",
        "\n",
        "    plt.subplots_adjust(hspace = 0.4, top = 0.85)\n",
        "\n",
        "    plt.show()"
      ],
      "metadata": {
        "_kg_hide-input": true,
        "trusted": true,
        "id": "-q0dA3eS1P8u"
      },
      "execution_count": null,
      "outputs": []
    },
    {
      "cell_type": "markdown",
      "source": [
        "## Ploting columns with few unique values"
      ],
      "metadata": {
        "id": "GD23OrM_1P8v"
      }
    },
    {
      "cell_type": "code",
      "source": [
        "for col in ['id_12', 'id_15', 'id_16', 'id_23', 'id_27', 'id_28', 'id_29']:\n",
        "    df_train[col] = df_train[col].fillna('NaN')\n",
        "    cat_feat_ploting(df_train, col)"
      ],
      "metadata": {
        "trusted": true,
        "id": "dBm7fhQO1P8v"
      },
      "execution_count": null,
      "outputs": []
    },
    {
      "cell_type": "markdown",
      "source": [
        "## Id 30"
      ],
      "metadata": {
        "id": "Y7cytNEo1P8v"
      }
    },
    {
      "cell_type": "code",
      "source": [
        "df_train.loc[df_train['id_30'].str.contains('Windows', na=False), 'id_30'] = 'Windows'\n",
        "df_train.loc[df_train['id_30'].str.contains('iOS', na=False), 'id_30'] = 'iOS'\n",
        "df_train.loc[df_train['id_30'].str.contains('Mac OS', na=False), 'id_30'] = 'Mac'\n",
        "df_train.loc[df_train['id_30'].str.contains('Android', na=False), 'id_30'] = 'Android'\n",
        "df_train['id_30'].fillna(\"NAN\", inplace=True)"
      ],
      "metadata": {
        "execution": {
          "iopub.status.busy": "2024-06-12T09:26:14.896641Z",
          "iopub.execute_input": "2024-06-12T09:26:14.896959Z",
          "iopub.status.idle": "2024-06-12T09:26:18.128785Z",
          "shell.execute_reply.started": "2024-06-12T09:26:14.896905Z",
          "shell.execute_reply": "2024-06-12T09:26:18.127973Z"
        },
        "trusted": true,
        "id": "JWx-BQS51P8v"
      },
      "execution_count": null,
      "outputs": []
    },
    {
      "cell_type": "code",
      "source": [
        "ploting_cnt_amt(df_train, 'id_30')"
      ],
      "metadata": {
        "execution": {
          "iopub.status.busy": "2024-06-12T09:26:21.979243Z",
          "iopub.execute_input": "2024-06-12T09:26:21.979543Z",
          "iopub.status.idle": "2024-06-12T09:26:23.067532Z",
          "shell.execute_reply.started": "2024-06-12T09:26:21.979498Z",
          "shell.execute_reply": "2024-06-12T09:26:23.066728Z"
        },
        "trusted": true,
        "id": "2wHQjTMR1P8v"
      },
      "execution_count": null,
      "outputs": []
    },
    {
      "cell_type": "markdown",
      "source": [
        "## Id 31"
      ],
      "metadata": {
        "id": "jmQhM-xt1P8v"
      }
    },
    {
      "cell_type": "code",
      "source": [
        "df_train.loc[df_train['id_31'].str.contains('chrome', na=False), 'id_31'] = 'Chrome'\n",
        "df_train.loc[df_train['id_31'].str.contains('firefox', na=False), 'id_31'] = 'Firefox'\n",
        "df_train.loc[df_train['id_31'].str.contains('safari', na=False), 'id_31'] = 'Safari'\n",
        "df_train.loc[df_train['id_31'].str.contains('edge', na=False), 'id_31'] = 'Edge'\n",
        "df_train.loc[df_train['id_31'].str.contains('ie', na=False), 'id_31'] = 'IE'\n",
        "df_train.loc[df_train['id_31'].str.contains('samsung', na=False), 'id_31'] = 'Samsung'\n",
        "df_train.loc[df_train['id_31'].str.contains('opera', na=False), 'id_31'] = 'Opera'\n",
        "df_train['id_31'].fillna(\"NAN\", inplace=True)\n",
        "df_train.loc[df_train.id_31.isin(df_train.id_31.value_counts()[df_train.id_31.value_counts() < 200].index), 'id_31'] = \"Others\""
      ],
      "metadata": {
        "execution": {
          "iopub.status.busy": "2024-06-12T09:26:42.10203Z",
          "iopub.execute_input": "2024-06-12T09:26:42.102326Z",
          "iopub.status.idle": "2024-06-12T09:26:44.498553Z",
          "shell.execute_reply.started": "2024-06-12T09:26:42.10229Z",
          "shell.execute_reply": "2024-06-12T09:26:44.497905Z"
        },
        "trusted": true,
        "id": "zcXioBPh1P8v"
      },
      "execution_count": null,
      "outputs": []
    },
    {
      "cell_type": "code",
      "source": [
        "ploting_cnt_amt(df_train, 'id_31')"
      ],
      "metadata": {
        "execution": {
          "iopub.status.busy": "2024-06-12T09:26:44.500247Z",
          "iopub.execute_input": "2024-06-12T09:26:44.500497Z",
          "iopub.status.idle": "2024-06-12T09:26:45.641347Z",
          "shell.execute_reply.started": "2024-06-12T09:26:44.500456Z",
          "shell.execute_reply": "2024-06-12T09:26:45.640674Z"
        },
        "trusted": true,
        "id": "W6qVw_2v1P8v"
      },
      "execution_count": null,
      "outputs": []
    }
  ]
}