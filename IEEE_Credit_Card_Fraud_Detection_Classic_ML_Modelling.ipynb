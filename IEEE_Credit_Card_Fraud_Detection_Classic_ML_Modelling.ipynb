{
  "cells": [
    {
      "cell_type": "markdown",
      "metadata": {
        "id": "view-in-github",
        "colab_type": "text"
      },
      "source": [
        "<a href=\"https://colab.research.google.com/github/anbinh-bui/Graph-Neural-Networks-for-Credit-Card-Fraud-Detection/blob/main/IEEE_Credit_Card_Fraud_Detection_Classic_ML_Modelling.ipynb\" target=\"_parent\"><img src=\"https://colab.research.google.com/assets/colab-badge.svg\" alt=\"Open In Colab\"/></a>"
      ]
    },
    {
      "cell_type": "code",
      "source": [
        "import pandas as pd\n",
        "import numpy as np\n",
        "import lightgbm as lgb\n",
        "import xgboost as xgb\n",
        "import random\n",
        "\n",
        "import os\n",
        "from tqdm import tqdm\n",
        "from os.path import isfile\n",
        "\n",
        "import sklearn\n",
        "from sklearn.metrics import roc_auc_score\n",
        "from sklearn.ensemble import RandomForestClassifier\n",
        "from sklearn.preprocessing import StandardScaler, MinMaxScaler\n",
        "from sklearn.model_selection import StratifiedKFold\n",
        "from sklearn.linear_model import LogisticRegression\n",
        "from sklearn.neighbors import KNeighborsClassifier\n",
        "from sklearn.svm import SVC\n",
        "from sklearn import preprocessing\n",
        "import joblib  # Import joblib directly instead of sklearn.externals.joblib\n",
        "from sklearn.decomposition import TruncatedSVD\n",
        "\n",
        "%pip install bayesian-optimization==1.4.1\n",
        "from bayes_opt import BayesianOptimization\n",
        "from bayes_opt.event import Events\n",
        "from bayes_opt.util import load_logs\n",
        "\n",
        "import seaborn as sns\n",
        "import matplotlib.pyplot as plt\n",
        "%matplotlib inline\n",
        "sns.set()\n",
        "\n",
        "import time\n",
        "import datetime\n",
        "\n",
        "import warnings\n",
        "warnings.filterwarnings(\"ignore\")\n",
        "\n",
        "# List files in the input directory\n",
        "input_dir = \"../input\"\n",
        "if os.path.exists(input_dir):\n",
        "    print(os.listdir(input_dir))\n",
        "else:\n",
        "    print(f\"Directory {input_dir} does not exist.\")\n",
        "print()\n",
        "\n",
        "# Print library versions\n",
        "print(\"pandas:\", pd.__version__)\n",
        "print(\"numpy:\", np.__version__)\n",
        "print(\"sklearn:\", sklearn.__version__)\n",
        "print()\n",
        "print(\"lightgbm:\", lgb.__version__)\n",
        "print(\"xgboost:\", xgb.__version__)\n",
        "\n",
        "# Handle joblib deprecation warning\n",
        "print(joblib.__version__)\n"
      ],
      "metadata": {
        "colab": {
          "base_uri": "https://localhost:8080/"
        },
        "collapsed": true,
        "id": "AZO3IY9OtuE2",
        "outputId": "6560c153-c2d9-4a1b-9d29-b9e6cbac6b7f"
      },
      "execution_count": null,
      "outputs": [
        {
          "output_type": "stream",
          "name": "stdout",
          "text": [
            "Collecting bayesian-optimization==1.4.1\n",
            "  Downloading bayesian_optimization-1.4.1-py3-none-any.whl (18 kB)\n",
            "Requirement already satisfied: numpy>=1.9.0 in /usr/local/lib/python3.10/dist-packages (from bayesian-optimization==1.4.1) (1.25.2)\n",
            "Requirement already satisfied: scipy>=1.0.0 in /usr/local/lib/python3.10/dist-packages (from bayesian-optimization==1.4.1) (1.11.4)\n",
            "Requirement already satisfied: scikit-learn>=0.18.0 in /usr/local/lib/python3.10/dist-packages (from bayesian-optimization==1.4.1) (1.2.2)\n",
            "Collecting colorama (from bayesian-optimization==1.4.1)\n",
            "  Downloading colorama-0.4.6-py2.py3-none-any.whl (25 kB)\n",
            "Requirement already satisfied: joblib>=1.1.1 in /usr/local/lib/python3.10/dist-packages (from scikit-learn>=0.18.0->bayesian-optimization==1.4.1) (1.4.2)\n",
            "Requirement already satisfied: threadpoolctl>=2.0.0 in /usr/local/lib/python3.10/dist-packages (from scikit-learn>=0.18.0->bayesian-optimization==1.4.1) (3.5.0)\n",
            "\u001b[33mWARNING: The candidate selected for download or install is a yanked version: 'bayesian-optimization' candidate (version 1.4.1 at https://files.pythonhosted.org/packages/86/71/57ce5c1859e997b6a66fd368fcd940452032c7fb2208371117a693e5f70a/bayesian_optimization-1.4.1-py3-none-any.whl (from https://pypi.org/simple/bayesian-optimization/))\n",
            "Reason for being yanked: https://github.com/fmfn/BayesianOptimization/pull/388\u001b[0m\u001b[33m\n",
            "\u001b[0mInstalling collected packages: colorama, bayesian-optimization\n",
            "Successfully installed bayesian-optimization-1.4.1 colorama-0.4.6\n",
            "Directory ../input does not exist.\n",
            "\n",
            "pandas: 2.0.3\n",
            "numpy: 1.25.2\n",
            "sklearn: 1.2.2\n",
            "\n",
            "lightgbm: 4.1.0\n",
            "xgboost: 2.0.3\n",
            "1.4.2\n"
          ]
        }
      ]
    },
    {
      "cell_type": "code",
      "source": [
        "train_transaction = pd.read_csv('/content/train_transaction.csv', index_col='TransactionID')\n",
        "test_transaction = pd.read_csv('/content/test_transaction.csv', index_col='TransactionID')\n",
        "\n",
        "train_identity = pd.read_csv('/content/train_identity.csv', index_col='TransactionID')\n",
        "test_identity = pd.read_csv('/content/test_identity.csv', index_col='TransactionID')\n"
      ],
      "metadata": {
        "id": "Garjqb44tzl8"
      },
      "execution_count": null,
      "outputs": []
    },
    {
      "cell_type": "code",
      "source": [
        "train = train_transaction.merge(train_identity, how='left', left_index=True, right_index=True)\n",
        "test = test_transaction.merge(test_identity, how='left', left_index=True, right_index=True)\n",
        "\n",
        "print(f'Shape of train set: {train.shape}')\n",
        "print(f'Shape of test set: {test.shape}')"
      ],
      "metadata": {
        "colab": {
          "base_uri": "https://localhost:8080/"
        },
        "id": "HOLwfeUiuqV5",
        "outputId": "969ecbb6-e56e-4f59-897d-c2c75e456c85"
      },
      "execution_count": null,
      "outputs": [
        {
          "output_type": "stream",
          "name": "stdout",
          "text": [
            "Shape of train set: (17474, 433)\n",
            "Shape of test set: (16492, 432)\n"
          ]
        }
      ]
    },
    {
      "cell_type": "code",
      "source": [
        "train = train.sample(frac=0.1, random_state=42)\n",
        "train.reset_index(drop=True, inplace=True)"
      ],
      "metadata": {
        "id": "16Ai2cGNusz7"
      },
      "execution_count": null,
      "outputs": []
    },
    {
      "cell_type": "code",
      "source": [
        "y = train.isFraud.values\n",
        "\n",
        "train = train.drop('isFraud', axis=1)\n",
        "test = test.copy()\n",
        "train = train.fillna(-1)\n",
        "test = test.fillna(-1)\n",
        "del train_transaction, train_identity, test_transaction, test_identity"
      ],
      "metadata": {
        "id": "LbdONvwuuv8H"
      },
      "execution_count": null,
      "outputs": []
    },
    {
      "cell_type": "code",
      "source": [
        "one_hot_encoded_training_predictors = pd.get_dummies(train)\n",
        "one_hot_encoded_test_predictors = pd.get_dummies(test)\n",
        "train, test = one_hot_encoded_training_predictors.align(one_hot_encoded_test_predictors,\n",
        "                                                                    join='left',\n",
        "                                                                    axis=1)\n"
      ],
      "metadata": {
        "id": "Mgzi7HL9uyvg"
      },
      "execution_count": null,
      "outputs": []
    },
    {
      "cell_type": "code",
      "source": [
        "def reduce_mem_usage(df, verbose=True):\n",
        "    numerics = ['int16', 'int32', 'int64', 'float16', 'float32', 'float64']\n",
        "    start_mem = df.memory_usage().sum() / 1024**2\n",
        "    for col in df.columns:\n",
        "        col_type = df[col].dtypes\n",
        "        if col_type in numerics:\n",
        "            c_min = df[col].min()\n",
        "            c_max = df[col].max()\n",
        "            if str(col_type)[:3] == 'int':\n",
        "                if c_min > np.iinfo(np.int8).min and c_max < np.iinfo(np.int8).max:\n",
        "                    df[col] = df[col].astype(np.int8)\n",
        "                elif c_min > np.iinfo(np.int16).min and c_max < np.iinfo(np.int16).max:\n",
        "                    df[col] = df[col].astype(np.int16)\n",
        "                elif c_min > np.iinfo(np.int32).min and c_max < np.iinfo(np.int32).max:\n",
        "                    df[col] = df[col].astype(np.int32)\n",
        "                elif c_min > np.iinfo(np.int64).min and c_max < np.iinfo(np.int64).max:\n",
        "                    df[col] = df[col].astype(np.int64)\n",
        "            else:\n",
        "                if c_min > np.finfo(np.float16).min and c_max < np.finfo(np.float16).max:\n",
        "                    df[col] = df[col].astype(np.float16)\n",
        "                elif c_min > np.finfo(np.float32).min and c_max < np.finfo(np.float32).max:\n",
        "                    df[col] = df[col].astype(np.float32)\n",
        "                else:\n",
        "                    df[col] = df[col].astype(np.float64)\n",
        "    end_mem = df.memory_usage().sum() / 1024**2\n",
        "    if verbose: print('Mem. usage decreased to {:5.2f} Mb ({:.1f}% reduction)'.format(end_mem, 100 * (start_mem - end_mem) / start_mem))\n",
        "    return df"
      ],
      "metadata": {
        "id": "YOCuoAdUu0t9"
      },
      "execution_count": null,
      "outputs": []
    },
    {
      "cell_type": "code",
      "source": [
        "#Reduce memory\n",
        "train = reduce_mem_usage(train)\n",
        "test = reduce_mem_usage(test)"
      ],
      "metadata": {
        "colab": {
          "base_uri": "https://localhost:8080/"
        },
        "id": "hxe6P60Fu1qn",
        "outputId": "893bba55-b9cc-4f20-c5b7-d6e8e8065e7e"
      },
      "execution_count": null,
      "outputs": [
        {
          "output_type": "stream",
          "name": "stdout",
          "text": [
            "Mem. usage decreased to  1.86 Mb (68.2% reduction)\n",
            "Mem. usage decreased to 41.03 Mb (46.5% reduction)\n"
          ]
        }
      ]
    },
    {
      "cell_type": "code",
      "source": [
        "cols = list(train.columns)\n",
        "len(cols)"
      ],
      "metadata": {
        "colab": {
          "base_uri": "https://localhost:8080/"
        },
        "id": "zRvJz4eOu5ex",
        "outputId": "6d03f299-35a0-400c-ef1a-b861fe631ade"
      },
      "execution_count": null,
      "outputs": [
        {
          "output_type": "execute_result",
          "data": {
            "text/plain": [
              "710"
            ]
          },
          "metadata": {},
          "execution_count": 11
        }
      ]
    },
    {
      "cell_type": "code",
      "source": [
        "scaler = StandardScaler() #MinMaxScaler StandardScaler RobustScaler\n",
        "\n",
        "train[cols] = scaler.fit_transform(train[cols])\n",
        "test[cols] = scaler.transform(test[cols])"
      ],
      "metadata": {
        "id": "Pf3Xbx8wu83i"
      },
      "execution_count": null,
      "outputs": []
    },
    {
      "cell_type": "code",
      "source": [
        "N = 50\n",
        "\n",
        "svd = TruncatedSVD(n_components=N, random_state=42)\n",
        "X = svd.fit_transform(train[cols], y)\n",
        "svd.explained_variance_ratio_.sum()"
      ],
      "metadata": {
        "colab": {
          "base_uri": "https://localhost:8080/"
        },
        "id": "4prfnldLvBOJ",
        "outputId": "13257ce3-8821-4a20-fee8-3642090dfbcb"
      },
      "execution_count": null,
      "outputs": [
        {
          "output_type": "execute_result",
          "data": {
            "text/plain": [
              "0.6638059995504755"
            ]
          },
          "metadata": {},
          "execution_count": 13
        }
      ]
    },
    {
      "cell_type": "code",
      "source": [
        "df = pd.DataFrame()\n",
        "df[\"target\"] = y\n",
        "\n",
        "for i in range(50):\n",
        "    df[i] = X[:,i]\n",
        "\n",
        "df.tail()"
      ],
      "metadata": {
        "colab": {
          "base_uri": "https://localhost:8080/",
          "height": 256
        },
        "id": "noqMzUO8vDik",
        "outputId": "dbe55b48-6abe-4e20-e788-f7bf7cd154d1"
      },
      "execution_count": null,
      "outputs": [
        {
          "output_type": "execute_result",
          "data": {
            "text/plain": [
              "      target          0         1         2         3         4         5  \\\n",
              "1742       0  -4.169270 -6.137926  0.225054  1.735267  0.242071  1.482906   \n",
              "1743       0  -6.432220 -1.313934  1.425615 -3.090562 -1.718050  1.304420   \n",
              "1744       0  -6.737579  6.572508 -4.502834  4.637856 -0.016813  1.456501   \n",
              "1745       0  -6.284942 -0.615041  2.654329 -0.671305  0.386302 -0.230218   \n",
              "1746       0  26.988478 -3.380037 -0.421206 -2.845088 -3.659114 -2.730503   \n",
              "\n",
              "             6         7         8  ...        40        41        42  \\\n",
              "1742  0.776729  1.194452 -0.223661  ...  0.052586  0.138284 -0.606346   \n",
              "1743  3.286920 -4.076557  0.392986  ... -0.610437 -0.382381  0.137573   \n",
              "1744 -1.617009  1.661543  0.024143  ...  0.416063 -0.607013  1.360209   \n",
              "1745  2.683456 -1.789377 -0.868489  ... -1.345255  0.626161  0.947301   \n",
              "1746 -4.279836 -0.980839 -2.602258  ... -0.768825 -1.460621 -1.614932   \n",
              "\n",
              "            43        44        45        46        47        48        49  \n",
              "1742 -0.424987 -0.085323  0.892422 -1.335924 -0.181874  0.955157  0.597860  \n",
              "1743  0.449639 -0.151563 -0.239922  1.222568  0.372538 -0.885790 -0.624837  \n",
              "1744 -1.083716 -0.373090  0.766927 -0.645248 -0.661573  0.155829 -0.405337  \n",
              "1745  0.048771  0.498730  0.084642  1.528615 -0.270982 -0.015048  0.282759  \n",
              "1746  1.379103  1.385379  1.165956 -2.657414  1.353836 -2.474972  0.166621  \n",
              "\n",
              "[5 rows x 51 columns]"
            ],
            "text/html": [
              "\n",
              "  <div id=\"df-a92337ea-6c8c-4754-a281-cd9eb9ba46d2\" class=\"colab-df-container\">\n",
              "    <div>\n",
              "<style scoped>\n",
              "    .dataframe tbody tr th:only-of-type {\n",
              "        vertical-align: middle;\n",
              "    }\n",
              "\n",
              "    .dataframe tbody tr th {\n",
              "        vertical-align: top;\n",
              "    }\n",
              "\n",
              "    .dataframe thead th {\n",
              "        text-align: right;\n",
              "    }\n",
              "</style>\n",
              "<table border=\"1\" class=\"dataframe\">\n",
              "  <thead>\n",
              "    <tr style=\"text-align: right;\">\n",
              "      <th></th>\n",
              "      <th>target</th>\n",
              "      <th>0</th>\n",
              "      <th>1</th>\n",
              "      <th>2</th>\n",
              "      <th>3</th>\n",
              "      <th>4</th>\n",
              "      <th>5</th>\n",
              "      <th>6</th>\n",
              "      <th>7</th>\n",
              "      <th>8</th>\n",
              "      <th>...</th>\n",
              "      <th>40</th>\n",
              "      <th>41</th>\n",
              "      <th>42</th>\n",
              "      <th>43</th>\n",
              "      <th>44</th>\n",
              "      <th>45</th>\n",
              "      <th>46</th>\n",
              "      <th>47</th>\n",
              "      <th>48</th>\n",
              "      <th>49</th>\n",
              "    </tr>\n",
              "  </thead>\n",
              "  <tbody>\n",
              "    <tr>\n",
              "      <th>1742</th>\n",
              "      <td>0</td>\n",
              "      <td>-4.169270</td>\n",
              "      <td>-6.137926</td>\n",
              "      <td>0.225054</td>\n",
              "      <td>1.735267</td>\n",
              "      <td>0.242071</td>\n",
              "      <td>1.482906</td>\n",
              "      <td>0.776729</td>\n",
              "      <td>1.194452</td>\n",
              "      <td>-0.223661</td>\n",
              "      <td>...</td>\n",
              "      <td>0.052586</td>\n",
              "      <td>0.138284</td>\n",
              "      <td>-0.606346</td>\n",
              "      <td>-0.424987</td>\n",
              "      <td>-0.085323</td>\n",
              "      <td>0.892422</td>\n",
              "      <td>-1.335924</td>\n",
              "      <td>-0.181874</td>\n",
              "      <td>0.955157</td>\n",
              "      <td>0.597860</td>\n",
              "    </tr>\n",
              "    <tr>\n",
              "      <th>1743</th>\n",
              "      <td>0</td>\n",
              "      <td>-6.432220</td>\n",
              "      <td>-1.313934</td>\n",
              "      <td>1.425615</td>\n",
              "      <td>-3.090562</td>\n",
              "      <td>-1.718050</td>\n",
              "      <td>1.304420</td>\n",
              "      <td>3.286920</td>\n",
              "      <td>-4.076557</td>\n",
              "      <td>0.392986</td>\n",
              "      <td>...</td>\n",
              "      <td>-0.610437</td>\n",
              "      <td>-0.382381</td>\n",
              "      <td>0.137573</td>\n",
              "      <td>0.449639</td>\n",
              "      <td>-0.151563</td>\n",
              "      <td>-0.239922</td>\n",
              "      <td>1.222568</td>\n",
              "      <td>0.372538</td>\n",
              "      <td>-0.885790</td>\n",
              "      <td>-0.624837</td>\n",
              "    </tr>\n",
              "    <tr>\n",
              "      <th>1744</th>\n",
              "      <td>0</td>\n",
              "      <td>-6.737579</td>\n",
              "      <td>6.572508</td>\n",
              "      <td>-4.502834</td>\n",
              "      <td>4.637856</td>\n",
              "      <td>-0.016813</td>\n",
              "      <td>1.456501</td>\n",
              "      <td>-1.617009</td>\n",
              "      <td>1.661543</td>\n",
              "      <td>0.024143</td>\n",
              "      <td>...</td>\n",
              "      <td>0.416063</td>\n",
              "      <td>-0.607013</td>\n",
              "      <td>1.360209</td>\n",
              "      <td>-1.083716</td>\n",
              "      <td>-0.373090</td>\n",
              "      <td>0.766927</td>\n",
              "      <td>-0.645248</td>\n",
              "      <td>-0.661573</td>\n",
              "      <td>0.155829</td>\n",
              "      <td>-0.405337</td>\n",
              "    </tr>\n",
              "    <tr>\n",
              "      <th>1745</th>\n",
              "      <td>0</td>\n",
              "      <td>-6.284942</td>\n",
              "      <td>-0.615041</td>\n",
              "      <td>2.654329</td>\n",
              "      <td>-0.671305</td>\n",
              "      <td>0.386302</td>\n",
              "      <td>-0.230218</td>\n",
              "      <td>2.683456</td>\n",
              "      <td>-1.789377</td>\n",
              "      <td>-0.868489</td>\n",
              "      <td>...</td>\n",
              "      <td>-1.345255</td>\n",
              "      <td>0.626161</td>\n",
              "      <td>0.947301</td>\n",
              "      <td>0.048771</td>\n",
              "      <td>0.498730</td>\n",
              "      <td>0.084642</td>\n",
              "      <td>1.528615</td>\n",
              "      <td>-0.270982</td>\n",
              "      <td>-0.015048</td>\n",
              "      <td>0.282759</td>\n",
              "    </tr>\n",
              "    <tr>\n",
              "      <th>1746</th>\n",
              "      <td>0</td>\n",
              "      <td>26.988478</td>\n",
              "      <td>-3.380037</td>\n",
              "      <td>-0.421206</td>\n",
              "      <td>-2.845088</td>\n",
              "      <td>-3.659114</td>\n",
              "      <td>-2.730503</td>\n",
              "      <td>-4.279836</td>\n",
              "      <td>-0.980839</td>\n",
              "      <td>-2.602258</td>\n",
              "      <td>...</td>\n",
              "      <td>-0.768825</td>\n",
              "      <td>-1.460621</td>\n",
              "      <td>-1.614932</td>\n",
              "      <td>1.379103</td>\n",
              "      <td>1.385379</td>\n",
              "      <td>1.165956</td>\n",
              "      <td>-2.657414</td>\n",
              "      <td>1.353836</td>\n",
              "      <td>-2.474972</td>\n",
              "      <td>0.166621</td>\n",
              "    </tr>\n",
              "  </tbody>\n",
              "</table>\n",
              "<p>5 rows × 51 columns</p>\n",
              "</div>\n",
              "    <div class=\"colab-df-buttons\">\n",
              "\n",
              "  <div class=\"colab-df-container\">\n",
              "    <button class=\"colab-df-convert\" onclick=\"convertToInteractive('df-a92337ea-6c8c-4754-a281-cd9eb9ba46d2')\"\n",
              "            title=\"Convert this dataframe to an interactive table.\"\n",
              "            style=\"display:none;\">\n",
              "\n",
              "  <svg xmlns=\"http://www.w3.org/2000/svg\" height=\"24px\" viewBox=\"0 -960 960 960\">\n",
              "    <path d=\"M120-120v-720h720v720H120Zm60-500h600v-160H180v160Zm220 220h160v-160H400v160Zm0 220h160v-160H400v160ZM180-400h160v-160H180v160Zm440 0h160v-160H620v160ZM180-180h160v-160H180v160Zm440 0h160v-160H620v160Z\"/>\n",
              "  </svg>\n",
              "    </button>\n",
              "\n",
              "  <style>\n",
              "    .colab-df-container {\n",
              "      display:flex;\n",
              "      gap: 12px;\n",
              "    }\n",
              "\n",
              "    .colab-df-convert {\n",
              "      background-color: #E8F0FE;\n",
              "      border: none;\n",
              "      border-radius: 50%;\n",
              "      cursor: pointer;\n",
              "      display: none;\n",
              "      fill: #1967D2;\n",
              "      height: 32px;\n",
              "      padding: 0 0 0 0;\n",
              "      width: 32px;\n",
              "    }\n",
              "\n",
              "    .colab-df-convert:hover {\n",
              "      background-color: #E2EBFA;\n",
              "      box-shadow: 0px 1px 2px rgba(60, 64, 67, 0.3), 0px 1px 3px 1px rgba(60, 64, 67, 0.15);\n",
              "      fill: #174EA6;\n",
              "    }\n",
              "\n",
              "    .colab-df-buttons div {\n",
              "      margin-bottom: 4px;\n",
              "    }\n",
              "\n",
              "    [theme=dark] .colab-df-convert {\n",
              "      background-color: #3B4455;\n",
              "      fill: #D2E3FC;\n",
              "    }\n",
              "\n",
              "    [theme=dark] .colab-df-convert:hover {\n",
              "      background-color: #434B5C;\n",
              "      box-shadow: 0px 1px 3px 1px rgba(0, 0, 0, 0.15);\n",
              "      filter: drop-shadow(0px 1px 2px rgba(0, 0, 0, 0.3));\n",
              "      fill: #FFFFFF;\n",
              "    }\n",
              "  </style>\n",
              "\n",
              "    <script>\n",
              "      const buttonEl =\n",
              "        document.querySelector('#df-a92337ea-6c8c-4754-a281-cd9eb9ba46d2 button.colab-df-convert');\n",
              "      buttonEl.style.display =\n",
              "        google.colab.kernel.accessAllowed ? 'block' : 'none';\n",
              "\n",
              "      async function convertToInteractive(key) {\n",
              "        const element = document.querySelector('#df-a92337ea-6c8c-4754-a281-cd9eb9ba46d2');\n",
              "        const dataTable =\n",
              "          await google.colab.kernel.invokeFunction('convertToInteractive',\n",
              "                                                    [key], {});\n",
              "        if (!dataTable) return;\n",
              "\n",
              "        const docLinkHtml = 'Like what you see? Visit the ' +\n",
              "          '<a target=\"_blank\" href=https://colab.research.google.com/notebooks/data_table.ipynb>data table notebook</a>'\n",
              "          + ' to learn more about interactive tables.';\n",
              "        element.innerHTML = '';\n",
              "        dataTable['output_type'] = 'display_data';\n",
              "        await google.colab.output.renderOutput(dataTable, element);\n",
              "        const docLink = document.createElement('div');\n",
              "        docLink.innerHTML = docLinkHtml;\n",
              "        element.appendChild(docLink);\n",
              "      }\n",
              "    </script>\n",
              "  </div>\n",
              "\n",
              "\n",
              "<div id=\"df-aa0da11b-9507-4710-83e9-f097aaebd755\">\n",
              "  <button class=\"colab-df-quickchart\" onclick=\"quickchart('df-aa0da11b-9507-4710-83e9-f097aaebd755')\"\n",
              "            title=\"Suggest charts\"\n",
              "            style=\"display:none;\">\n",
              "\n",
              "<svg xmlns=\"http://www.w3.org/2000/svg\" height=\"24px\"viewBox=\"0 0 24 24\"\n",
              "     width=\"24px\">\n",
              "    <g>\n",
              "        <path d=\"M19 3H5c-1.1 0-2 .9-2 2v14c0 1.1.9 2 2 2h14c1.1 0 2-.9 2-2V5c0-1.1-.9-2-2-2zM9 17H7v-7h2v7zm4 0h-2V7h2v10zm4 0h-2v-4h2v4z\"/>\n",
              "    </g>\n",
              "</svg>\n",
              "  </button>\n",
              "\n",
              "<style>\n",
              "  .colab-df-quickchart {\n",
              "      --bg-color: #E8F0FE;\n",
              "      --fill-color: #1967D2;\n",
              "      --hover-bg-color: #E2EBFA;\n",
              "      --hover-fill-color: #174EA6;\n",
              "      --disabled-fill-color: #AAA;\n",
              "      --disabled-bg-color: #DDD;\n",
              "  }\n",
              "\n",
              "  [theme=dark] .colab-df-quickchart {\n",
              "      --bg-color: #3B4455;\n",
              "      --fill-color: #D2E3FC;\n",
              "      --hover-bg-color: #434B5C;\n",
              "      --hover-fill-color: #FFFFFF;\n",
              "      --disabled-bg-color: #3B4455;\n",
              "      --disabled-fill-color: #666;\n",
              "  }\n",
              "\n",
              "  .colab-df-quickchart {\n",
              "    background-color: var(--bg-color);\n",
              "    border: none;\n",
              "    border-radius: 50%;\n",
              "    cursor: pointer;\n",
              "    display: none;\n",
              "    fill: var(--fill-color);\n",
              "    height: 32px;\n",
              "    padding: 0;\n",
              "    width: 32px;\n",
              "  }\n",
              "\n",
              "  .colab-df-quickchart:hover {\n",
              "    background-color: var(--hover-bg-color);\n",
              "    box-shadow: 0 1px 2px rgba(60, 64, 67, 0.3), 0 1px 3px 1px rgba(60, 64, 67, 0.15);\n",
              "    fill: var(--button-hover-fill-color);\n",
              "  }\n",
              "\n",
              "  .colab-df-quickchart-complete:disabled,\n",
              "  .colab-df-quickchart-complete:disabled:hover {\n",
              "    background-color: var(--disabled-bg-color);\n",
              "    fill: var(--disabled-fill-color);\n",
              "    box-shadow: none;\n",
              "  }\n",
              "\n",
              "  .colab-df-spinner {\n",
              "    border: 2px solid var(--fill-color);\n",
              "    border-color: transparent;\n",
              "    border-bottom-color: var(--fill-color);\n",
              "    animation:\n",
              "      spin 1s steps(1) infinite;\n",
              "  }\n",
              "\n",
              "  @keyframes spin {\n",
              "    0% {\n",
              "      border-color: transparent;\n",
              "      border-bottom-color: var(--fill-color);\n",
              "      border-left-color: var(--fill-color);\n",
              "    }\n",
              "    20% {\n",
              "      border-color: transparent;\n",
              "      border-left-color: var(--fill-color);\n",
              "      border-top-color: var(--fill-color);\n",
              "    }\n",
              "    30% {\n",
              "      border-color: transparent;\n",
              "      border-left-color: var(--fill-color);\n",
              "      border-top-color: var(--fill-color);\n",
              "      border-right-color: var(--fill-color);\n",
              "    }\n",
              "    40% {\n",
              "      border-color: transparent;\n",
              "      border-right-color: var(--fill-color);\n",
              "      border-top-color: var(--fill-color);\n",
              "    }\n",
              "    60% {\n",
              "      border-color: transparent;\n",
              "      border-right-color: var(--fill-color);\n",
              "    }\n",
              "    80% {\n",
              "      border-color: transparent;\n",
              "      border-right-color: var(--fill-color);\n",
              "      border-bottom-color: var(--fill-color);\n",
              "    }\n",
              "    90% {\n",
              "      border-color: transparent;\n",
              "      border-bottom-color: var(--fill-color);\n",
              "    }\n",
              "  }\n",
              "</style>\n",
              "\n",
              "  <script>\n",
              "    async function quickchart(key) {\n",
              "      const quickchartButtonEl =\n",
              "        document.querySelector('#' + key + ' button');\n",
              "      quickchartButtonEl.disabled = true;  // To prevent multiple clicks.\n",
              "      quickchartButtonEl.classList.add('colab-df-spinner');\n",
              "      try {\n",
              "        const charts = await google.colab.kernel.invokeFunction(\n",
              "            'suggestCharts', [key], {});\n",
              "      } catch (error) {\n",
              "        console.error('Error during call to suggestCharts:', error);\n",
              "      }\n",
              "      quickchartButtonEl.classList.remove('colab-df-spinner');\n",
              "      quickchartButtonEl.classList.add('colab-df-quickchart-complete');\n",
              "    }\n",
              "    (() => {\n",
              "      let quickchartButtonEl =\n",
              "        document.querySelector('#df-aa0da11b-9507-4710-83e9-f097aaebd755 button');\n",
              "      quickchartButtonEl.style.display =\n",
              "        google.colab.kernel.accessAllowed ? 'block' : 'none';\n",
              "    })();\n",
              "  </script>\n",
              "</div>\n",
              "    </div>\n",
              "  </div>\n"
            ],
            "application/vnd.google.colaboratory.intrinsic+json": {
              "type": "dataframe"
            }
          },
          "metadata": {},
          "execution_count": 14
        }
      ]
    },
    {
      "cell_type": "markdown",
      "source": [
        "Logistic Regression"
      ],
      "metadata": {
        "id": "ng6qfwUJvPQS"
      }
    },
    {
      "cell_type": "code",
      "source": [
        "%%time\n",
        "\n",
        "skf = StratifiedKFold(n_splits=5, shuffle=True, random_state=42)\n",
        "arch = \"reg\"\n",
        "\n",
        "train[arch] = 0\n",
        "\n",
        "for i, (train_index, valid_index) in enumerate(skf.split(X, y)):\n",
        "\n",
        "    X_train = X[train_index]\n",
        "    X_valid = X[valid_index]\n",
        "\n",
        "    y_train = y[train_index]\n",
        "    y_valid = y[valid_index]\n",
        "\n",
        "    reg = LogisticRegression(C=1,\n",
        "                             solver=\"newton-cg\",\n",
        "                             penalty=\"l2\",\n",
        "                             n_jobs=-1,\n",
        "                             max_iter=100).fit(X_train, y_train)\n",
        "\n",
        "    y_pred = reg.predict_proba(X_valid)[:,1]\n",
        "    train.loc[valid_index, arch] = y_pred\n",
        "    print(i, \"ROC AUC:\", round(roc_auc_score(y_valid, y_pred), 5))\n",
        "\n",
        "print()\n",
        "print(\"OOF ROC AUC:\", round(roc_auc_score(y, train[arch]), 5))\n",
        "print()"
      ],
      "metadata": {
        "colab": {
          "base_uri": "https://localhost:8080/"
        },
        "id": "HFU5ZBrhvF3B",
        "outputId": "fbdfc3b3-ab68-4721-f050-370f3f5e7427"
      },
      "execution_count": null,
      "outputs": [
        {
          "output_type": "stream",
          "name": "stdout",
          "text": [
            "0 ROC AUC: 0.63088\n",
            "1 ROC AUC: 0.79176\n",
            "2 ROC AUC: 0.88595\n",
            "3 ROC AUC: 0.75882\n",
            "4 ROC AUC: 0.83235\n",
            "\n",
            "OOF ROC AUC: 0.77124\n",
            "\n",
            "CPU times: user 194 ms, sys: 300 ms, total: 495 ms\n",
            "Wall time: 4.9 s\n"
          ]
        }
      ]
    },
    {
      "cell_type": "markdown",
      "source": [
        "Random Forest"
      ],
      "metadata": {
        "id": "EzZ9p_l2vWh_"
      }
    },
    {
      "cell_type": "code",
      "source": [
        "%%time\n",
        "\n",
        "skf = StratifiedKFold(n_splits=5, shuffle=True, random_state=42)\n",
        "arch = \"rfc\"\n",
        "\n",
        "train[arch] = 0\n",
        "test[arch] = 0\n",
        "\n",
        "for i, (train_index, valid_index) in enumerate(skf.split(X, y)):\n",
        "\n",
        "    X_train = X[train_index]\n",
        "    X_valid = X[valid_index]\n",
        "\n",
        "    y_train = y[train_index]\n",
        "    y_valid = y[valid_index]\n",
        "\n",
        "    rfc = RandomForestClassifier(n_estimators=100,\n",
        "                                 criterion='gini',\n",
        "                                 n_jobs=-1).fit(X_train, y_train)\n",
        "\n",
        "    y_pred = rfc.predict_proba(X_valid)[:,1]\n",
        "    train.loc[valid_index, arch] = y_pred\n",
        "    print(i, \"ROC AUC:\", round(roc_auc_score(y_valid, y_pred), 5))\n",
        "\n",
        "print()\n",
        "print(\"OOF ROC AUC:\", round(roc_auc_score(y, train[arch]), 5))\n",
        "print()"
      ],
      "metadata": {
        "colab": {
          "base_uri": "https://localhost:8080/"
        },
        "id": "aRr8Q46SvYP5",
        "outputId": "b04f35f0-a468-4520-826e-bd78dc3ba394"
      },
      "execution_count": null,
      "outputs": [
        {
          "output_type": "stream",
          "name": "stdout",
          "text": [
            "0 ROC AUC: 0.79794\n",
            "1 ROC AUC: 0.64647\n",
            "2 ROC AUC: 0.78366\n",
            "3 ROC AUC: 0.72271\n",
            "4 ROC AUC: 0.68676\n",
            "\n",
            "OOF ROC AUC: 0.72666\n",
            "\n",
            "CPU times: user 6.44 s, sys: 150 ms, total: 6.59 s\n",
            "Wall time: 11.1 s\n"
          ]
        }
      ]
    },
    {
      "cell_type": "markdown",
      "source": [
        "LGBM"
      ],
      "metadata": {
        "id": "Qr_pfco6vacn"
      }
    },
    {
      "cell_type": "code",
      "source": [
        "from sklearn.model_selection import StratifiedKFold\n",
        "\n",
        "# Parameters for LightGBM\n",
        "params = {\n",
        "    'objective': 'binary',\n",
        "    'boosting_type': 'gbdt',\n",
        "    'metric': 'auc',\n",
        "    'seed': 42,\n",
        "    'max_depth': -1,\n",
        "    'verbose': -1,\n",
        "    'n_jobs': -1\n",
        "}\n",
        "\n",
        "# Parameters for training to prevent eary_stop_rounds\n",
        "rounds = 10000\n",
        "early_stop_rounds = 300\n",
        "\n",
        "# Prepare data for LightGBM\n",
        "X = svd.fit_transform(train[cols], y)  # Use SVD transformed data\n",
        "skf = StratifiedKFold(n_splits=5, shuffle=True, random_state=42)\n",
        "arch = \"lgbm\"\n",
        "\n",
        "train[arch] = 0\n",
        "test[arch] = 0\n",
        "\n",
        "for i, (train_index, valid_index) in enumerate(skf.split(X, y)):\n",
        "    X_train, X_valid = X[train_index], X[valid_index]\n",
        "    y_train, y_valid = y[train_index], y[valid_index]\n",
        "\n",
        "    # Create LightGBM datasets\n",
        "    d_train = lgb.Dataset(X_train, label=y_train)\n",
        "    d_valid = lgb.Dataset(X_valid, label=y_valid, reference=d_train)\n",
        "\n",
        "    # Train the model\n",
        "    model = lgb.train(params,\n",
        "                      d_train,\n",
        "                      num_boost_round=rounds,\n",
        "                      valid_sets=[d_valid],\n",
        "                      callbacks=[\n",
        "                          lgb.early_stopping(stopping_rounds=early_stop_rounds),\n",
        "                          lgb.log_evaluation(period=100)\n",
        "                      ])\n",
        "\n",
        "    # Predict and store the results\n",
        "    y_pred = model.predict(X_valid, num_iteration=model.best_iteration)\n",
        "    train.loc[valid_index, arch] = y_pred\n",
        "    print(f\"Fold {i + 1} ROC AUC: {round(roc_auc_score(y_valid, y_pred), 5)}\")\n",
        "\n",
        "    # Ensure no NaNs in the test data before transforming\n",
        "    test_filled = test[cols].fillna(-1)\n",
        "\n",
        "    # Predict on test set and average predictions\n",
        "    test_pred = model.predict(svd.transform(test_filled), num_iteration=model.best_iteration)\n",
        "    test[arch] += test_pred / skf.n_splits\n",
        "\n",
        "print()\n",
        "print(\"OOF ROC AUC:\", round(roc_auc_score(y, train[arch]), 5))\n",
        "print()\n"
      ],
      "metadata": {
        "colab": {
          "base_uri": "https://localhost:8080/"
        },
        "id": "iwH1BqpfyMK3",
        "outputId": "50221a58-749c-483c-8141-feb55f378b36"
      },
      "execution_count": null,
      "outputs": [
        {
          "output_type": "stream",
          "name": "stdout",
          "text": [
            "Training until validation scores don't improve for 300 rounds\n",
            "[100]\tvalid_0's auc: 0.863824\n",
            "[200]\tvalid_0's auc: 0.867941\n",
            "[300]\tvalid_0's auc: 0.859412\n",
            "Early stopping, best iteration is:\n",
            "[8]\tvalid_0's auc: 0.881176\n",
            "Fold 1 ROC AUC: 0.88118\n",
            "Training until validation scores don't improve for 300 rounds\n",
            "[100]\tvalid_0's auc: 0.680588\n",
            "[200]\tvalid_0's auc: 0.677647\n",
            "[300]\tvalid_0's auc: 0.677353\n",
            "Early stopping, best iteration is:\n",
            "[67]\tvalid_0's auc: 0.701471\n",
            "Fold 2 ROC AUC: 0.70147\n",
            "Training until validation scores don't improve for 300 rounds\n",
            "[100]\tvalid_0's auc: 0.815359\n",
            "[200]\tvalid_0's auc: 0.829412\n",
            "[300]\tvalid_0's auc: 0.827451\n",
            "[400]\tvalid_0's auc: 0.821569\n",
            "Early stopping, best iteration is:\n",
            "[147]\tvalid_0's auc: 0.841176\n",
            "Fold 3 ROC AUC: 0.84118\n",
            "Training until validation scores don't improve for 300 rounds\n",
            "[100]\tvalid_0's auc: 0.706209\n",
            "[200]\tvalid_0's auc: 0.699346\n",
            "[300]\tvalid_0's auc: 0.687255\n",
            "Early stopping, best iteration is:\n",
            "[84]\tvalid_0's auc: 0.712745\n",
            "Fold 4 ROC AUC: 0.71275\n",
            "Training until validation scores don't improve for 300 rounds\n",
            "[100]\tvalid_0's auc: 0.646732\n",
            "[200]\tvalid_0's auc: 0.64902\n",
            "[300]\tvalid_0's auc: 0.656209\n",
            "Early stopping, best iteration is:\n",
            "[57]\tvalid_0's auc: 0.665033\n",
            "Fold 5 ROC AUC: 0.66503\n",
            "\n",
            "OOF ROC AUC: 0.66851\n",
            "\n"
          ]
        }
      ]
    }
  ],
  "metadata": {
    "colab": {
      "provenance": [],
      "authorship_tag": "ABX9TyMCb/9YFIO1lhByNrdsH9Oo",
      "include_colab_link": true
    },
    "kernelspec": {
      "display_name": "Python 3",
      "name": "python3"
    },
    "language_info": {
      "name": "python"
    }
  },
  "nbformat": 4,
  "nbformat_minor": 0
}